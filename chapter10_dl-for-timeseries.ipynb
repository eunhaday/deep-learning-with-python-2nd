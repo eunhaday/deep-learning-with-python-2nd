{
  "cells": [
    {
      "cell_type": "markdown",
      "metadata": {
        "id": "rLyx0NKfjbcR"
      },
      "source": [
        "이 노트북은 [케라스 창시자에게 배우는 딥러닝 2판](https://tensorflow.blog/kerasdl2/)의 예제 코드를 담고 있습니다.\n",
        "\n",
        "<table align=\"left\">\n",
        "    <tr>\n",
        "        <td>\n",
        "            <a href=\"https://colab.research.google.com/github/rickiepark/deep-learning-with-python-2nd/blob/main/chapter10_dl-for-timeseries.ipynb\" target=\"_parent\"><img src=\"https://colab.research.google.com/assets/colab-badge.svg\" alt=\"Open In Colab\"/></a>\n",
        "        </td>\n",
        "    </tr>\n",
        "</table>"
      ]
    },
    {
      "cell_type": "code",
      "source": [
        "from google.colab import drive\n",
        "drive.mount('/content/drive')"
      ],
      "metadata": {
        "colab": {
          "base_uri": "https://localhost:8080/"
        },
        "id": "b-s497mgm5pq",
        "outputId": "7414b63e-7d79-45a9-df4e-f0c89b090159"
      },
      "execution_count": 1,
      "outputs": [
        {
          "output_type": "stream",
          "name": "stdout",
          "text": [
            "Mounted at /content/drive\n"
          ]
        }
      ]
    },
    {
      "cell_type": "markdown",
      "metadata": {
        "id": "-jmgSYTnjbcU"
      },
      "source": [
        "# 시계열을 위한 딥러닝"
      ]
    },
    {
      "cell_type": "markdown",
      "metadata": {
        "id": "yqfO6TQzjbcV"
      },
      "source": [
        "## 다양한 종류의 시계열 작업"
      ]
    },
    {
      "cell_type": "markdown",
      "metadata": {
        "id": "rMlIvey2jbcV"
      },
      "source": [
        "## 기온 예측 문제"
      ]
    },
    {
      "cell_type": "code",
      "execution_count": 3,
      "metadata": {
        "execution": {
          "iopub.execute_input": "2022-05-20T13:26:55.453195Z",
          "iopub.status.busy": "2022-05-20T13:26:55.452690Z",
          "iopub.status.idle": "2022-05-20T13:26:58.879200Z",
          "shell.execute_reply": "2022-05-20T13:26:58.877667Z"
        },
        "id": "aUCXJRQgjbcV",
        "outputId": "4d49a1e5-4a72-4147-ea1f-f4f3822f7fc1",
        "colab": {
          "base_uri": "https://localhost:8080/"
        }
      },
      "outputs": [
        {
          "output_type": "stream",
          "name": "stdout",
          "text": [
            "--2024-11-11 05:05:19--  https://s3.amazonaws.com/keras-datasets/jena_climate_2009_2016.csv.zip\n",
            "Resolving s3.amazonaws.com (s3.amazonaws.com)... 52.216.94.205, 52.217.202.24, 52.217.142.24, ...\n",
            "Connecting to s3.amazonaws.com (s3.amazonaws.com)|52.216.94.205|:443... connected.\n",
            "HTTP request sent, awaiting response... 200 OK\n",
            "Length: 13565642 (13M) [application/zip]\n",
            "Saving to: ‘jena_climate_2009_2016.csv.zip’\n",
            "\n",
            "jena_climate_2009_2 100%[===================>]  12.94M  6.18MB/s    in 2.1s    \n",
            "\n",
            "2024-11-11 05:05:22 (6.18 MB/s) - ‘jena_climate_2009_2016.csv.zip’ saved [13565642/13565642]\n",
            "\n",
            "Archive:  jena_climate_2009_2016.csv.zip\n",
            "  inflating: jena_climate_2009_2016.csv  \n",
            "  inflating: __MACOSX/._jena_climate_2009_2016.csv  \n"
          ]
        }
      ],
      "source": [
        "!wget https://s3.amazonaws.com/keras-datasets/jena_climate_2009_2016.csv.zip\n",
        "!unzip jena_climate_2009_2016.csv.zip"
      ]
    },
    {
      "cell_type": "markdown",
      "metadata": {
        "id": "C93ZoFD3jbcX"
      },
      "source": [
        "**예나 날씨 데이터셋 조사하기**"
      ]
    },
    {
      "cell_type": "code",
      "execution_count": 5,
      "metadata": {
        "execution": {
          "iopub.execute_input": "2022-05-20T13:26:58.883391Z",
          "iopub.status.busy": "2022-05-20T13:26:58.883062Z",
          "iopub.status.idle": "2022-05-20T13:26:59.026206Z",
          "shell.execute_reply": "2022-05-20T13:26:59.025347Z"
        },
        "id": "Z-0eD31YjbcX",
        "outputId": "234d1a04-5fd1-43ad-97c9-cfbb4141668c",
        "colab": {
          "base_uri": "https://localhost:8080/"
        }
      },
      "outputs": [
        {
          "output_type": "stream",
          "name": "stdout",
          "text": [
            "['\"Date Time\"', '\"p (mbar)\"', '\"T (degC)\"', '\"Tpot (K)\"', '\"Tdew (degC)\"', '\"rh (%)\"', '\"VPmax (mbar)\"', '\"VPact (mbar)\"', '\"VPdef (mbar)\"', '\"sh (g/kg)\"', '\"H2OC (mmol/mol)\"', '\"rho (g/m**3)\"', '\"wv (m/s)\"', '\"max. wv (m/s)\"', '\"wd (deg)\"']\n",
            "420451\n"
          ]
        }
      ],
      "source": [
        "import os\n",
        "fname = os.path.join(\"jena_climate_2009_2016.csv\")\n",
        "\n",
        "with open(fname) as f:\n",
        "    data = f.read()\n",
        "\n",
        "lines = data.split(\"\\n\")\n",
        "header = lines[0].split(\",\")\n",
        "lines = lines[1:]\n",
        "print(header)\n",
        "print(len(lines))"
      ]
    },
    {
      "cell_type": "markdown",
      "metadata": {
        "id": "kRnwyaNijbcY"
      },
      "source": [
        "**데이터 파싱**"
      ]
    },
    {
      "cell_type": "code",
      "execution_count": 6,
      "metadata": {
        "execution": {
          "iopub.execute_input": "2022-05-20T13:26:59.030213Z",
          "iopub.status.busy": "2022-05-20T13:26:59.029492Z",
          "iopub.status.idle": "2022-05-20T13:27:00.936580Z",
          "shell.execute_reply": "2022-05-20T13:27:00.935499Z"
        },
        "id": "FiZFxhiCjbcY"
      },
      "outputs": [],
      "source": [
        "import numpy as np\n",
        "temperature = np.zeros((len(lines),))\n",
        "raw_data = np.zeros((len(lines), len(header) - 1))\n",
        "for i, line in enumerate(lines):\n",
        "    values = [float(x) for x in line.split(\",\")[1:]]\n",
        "    temperature[i] = values[1]\n",
        "    raw_data[i, :] = values[:]"
      ]
    },
    {
      "cell_type": "markdown",
      "metadata": {
        "id": "b1MbsjsljbcZ"
      },
      "source": [
        "**전체 기온을 그래프로 그리기**"
      ]
    },
    {
      "cell_type": "code",
      "execution_count": 7,
      "metadata": {
        "execution": {
          "iopub.execute_input": "2022-05-20T13:27:00.940623Z",
          "iopub.status.busy": "2022-05-20T13:27:00.940326Z",
          "iopub.status.idle": "2022-05-20T13:27:02.011631Z",
          "shell.execute_reply": "2022-05-20T13:27:02.010321Z"
        },
        "id": "o6gAh5ecjbcZ",
        "outputId": "7b35c9c2-774f-46ff-aad8-fbace667a438",
        "colab": {
          "base_uri": "https://localhost:8080/",
          "height": 434
        }
      },
      "outputs": [
        {
          "output_type": "display_data",
          "data": {
            "text/plain": [
              "<Figure size 640x480 with 1 Axes>"
            ],
            "image/png": "[encoded data removed]"
          },
          "metadata": {}
        }
      ],
      "source": [
        "from matplotlib import pyplot as plt\n",
        "plt.plot(range(len(temperature)), temperature)\n",
        "plt.show()"
      ]
    },
    {
      "cell_type": "markdown",
      "metadata": {
        "id": "aALKlaFJjbcZ"
      },
      "source": [
        "**처음 10일간의 기온을 그래프로 그리기**"
      ]
    },
    {
      "cell_type": "code",
      "execution_count": 8,
      "metadata": {
        "execution": {
          "iopub.execute_input": "2022-05-20T13:27:02.015866Z",
          "iopub.status.busy": "2022-05-20T13:27:02.015374Z",
          "iopub.status.idle": "2022-05-20T13:27:02.123996Z",
          "shell.execute_reply": "2022-05-20T13:27:02.122754Z"
        },
        "id": "FGPdWjXujbca",
        "outputId": "68de6826-bb56-4324-aca5-be141e8b64d6",
        "colab": {
          "base_uri": "https://localhost:8080/",
          "height": 430
        }
      },
      "outputs": [
        {
          "output_type": "display_data",
          "data": {
            "text/plain": [
              "<Figure size 640x480 with 1 Axes>"
            ],
            "image/png": "[encoded data removed]"
          },
          "metadata": {}
        }
      ],
      "source": [
        "plt.plot(range(1440), temperature[:1440])\n",
        "plt.show()"
      ]
    },
    {
      "cell_type": "markdown",
      "metadata": {
        "id": "QaZN550Xjbca"
      },
      "source": [
        "**각 분할에 사용할 샘플 수 계산하기**"
      ]
    },
    {
      "cell_type": "code",
      "execution_count": 9,
      "metadata": {
        "execution": {
          "iopub.execute_input": "2022-05-20T13:27:02.128070Z",
          "iopub.status.busy": "2022-05-20T13:27:02.127766Z",
          "iopub.status.idle": "2022-05-20T13:27:02.133998Z",
          "shell.execute_reply": "2022-05-20T13:27:02.132864Z"
        },
        "id": "YG7JjzJtjbca",
        "outputId": "19e404f3-a78b-4495-f8ef-1bd9f97a78c8",
        "colab": {
          "base_uri": "https://localhost:8080/"
        }
      },
      "outputs": [
        {
          "output_type": "stream",
          "name": "stdout",
          "text": [
            "num_train_samples: 210225\n",
            "num_val_samples: 105112\n",
            "num_test_samples: 105114\n"
          ]
        }
      ],
      "source": [
        "num_train_samples = int(0.5 * len(raw_data))\n",
        "num_val_samples = int(0.25 * len(raw_data))\n",
        "num_test_samples = len(raw_data) - num_train_samples - num_val_samples\n",
        "print(\"num_train_samples:\", num_train_samples)\n",
        "print(\"num_val_samples:\", num_val_samples)\n",
        "print(\"num_test_samples:\", num_test_samples)"
      ]
    },
    {
      "cell_type": "markdown",
      "metadata": {
        "id": "B-GzlCYCjbcb"
      },
      "source": [
        "### 데이터 준비"
      ]
    },
    {
      "cell_type": "markdown",
      "metadata": {
        "id": "gsmS_D67jbcb"
      },
      "source": [
        "**데이터 정규화**"
      ]
    },
    {
      "cell_type": "code",
      "execution_count": 10,
      "metadata": {
        "execution": {
          "iopub.execute_input": "2022-05-20T13:27:02.137634Z",
          "iopub.status.busy": "2022-05-20T13:27:02.137353Z",
          "iopub.status.idle": "2022-05-20T13:27:02.191157Z",
          "shell.execute_reply": "2022-05-20T13:27:02.189956Z"
        },
        "id": "5BhCfjkrjbcb"
      },
      "outputs": [],
      "source": [
        "mean = raw_data[:num_train_samples].mean(axis=0)\n",
        "raw_data -= mean\n",
        "std = raw_data[:num_train_samples].std(axis=0)\n",
        "raw_data /= std"
      ]
    },
    {
      "cell_type": "code",
      "execution_count": 11,
      "metadata": {
        "execution": {
          "iopub.execute_input": "2022-05-20T13:27:02.195344Z",
          "iopub.status.busy": "2022-05-20T13:27:02.195011Z",
          "iopub.status.idle": "2022-05-20T13:27:02.314820Z",
          "shell.execute_reply": "2022-05-20T13:27:02.312523Z"
        },
        "id": "sgoxHRsPjbcb",
        "outputId": "fa5a5480-a965-4628-e1b8-5d6a4fc7de4b",
        "colab": {
          "base_uri": "https://localhost:8080/"
        }
      },
      "outputs": [
        {
          "output_type": "stream",
          "name": "stdout",
          "text": [
            "[0, 1, 2] 3\n",
            "[1, 2, 3] 4\n",
            "[2, 3, 4] 5\n",
            "[3, 4, 5] 6\n",
            "[4, 5, 6] 7\n"
          ]
        }
      ],
      "source": [
        "import numpy as np\n",
        "from tensorflow import keras\n",
        "int_sequence = np.arange(10)\n",
        "dummy_dataset = keras.utils.timeseries_dataset_from_array(\n",
        "    data=int_sequence[:-3],\n",
        "    targets=int_sequence[3:],\n",
        "    sequence_length=3,\n",
        "    batch_size=2,\n",
        ")\n",
        "\n",
        "for inputs, targets in dummy_dataset:\n",
        "    for i in range(inputs.shape[0]):\n",
        "        print([int(x) for x in inputs[i]], int(targets[i]))"
      ]
    },
    {
      "cell_type": "markdown",
      "metadata": {
        "id": "n_d8n6Yqjbcb"
      },
      "source": [
        "**훈련, 검증, 테스트 데이터셋 만들기**"
      ]
    },
    {
      "cell_type": "code",
      "execution_count": 12,
      "metadata": {
        "execution": {
          "iopub.execute_input": "2022-05-20T13:27:02.318918Z",
          "iopub.status.busy": "2022-05-20T13:27:02.318531Z",
          "iopub.status.idle": "2022-05-20T13:27:02.483352Z",
          "shell.execute_reply": "2022-05-20T13:27:02.482263Z"
        },
        "id": "uts3EvXajbcc"
      },
      "outputs": [],
      "source": [
        "sampling_rate = 6\n",
        "sequence_length = 120\n",
        "delay = sampling_rate * (sequence_length + 24 - 1)\n",
        "batch_size = 256\n",
        "\n",
        "train_dataset = keras.utils.timeseries_dataset_from_array(\n",
        "    raw_data[:-delay],\n",
        "    targets=temperature[delay:],\n",
        "    sampling_rate=sampling_rate,\n",
        "    sequence_length=sequence_length,\n",
        "    shuffle=True,\n",
        "    batch_size=batch_size,\n",
        "    start_index=0,\n",
        "    end_index=num_train_samples)\n",
        "\n",
        "val_dataset = keras.utils.timeseries_dataset_from_array(\n",
        "    raw_data[:-delay],\n",
        "    targets=temperature[delay:],\n",
        "    sampling_rate=sampling_rate,\n",
        "    sequence_length=sequence_length,\n",
        "    shuffle=True,\n",
        "    batch_size=batch_size,\n",
        "    start_index=num_train_samples,\n",
        "    end_index=num_train_samples + num_val_samples)\n",
        "\n",
        "test_dataset = keras.utils.timeseries_dataset_from_array(\n",
        "    raw_data[:-delay],\n",
        "    targets=temperature[delay:],\n",
        "    sampling_rate=sampling_rate,\n",
        "    sequence_length=sequence_length,\n",
        "    shuffle=True,\n",
        "    batch_size=batch_size,\n",
        "    start_index=num_train_samples + num_val_samples)"
      ]
    },
    {
      "cell_type": "markdown",
      "metadata": {
        "id": "dZNUb2s2jbcc"
      },
      "source": [
        "**훈련 데이터셋의 배치 크기 확인하기**"
      ]
    },
    {
      "cell_type": "code",
      "execution_count": 13,
      "metadata": {
        "execution": {
          "iopub.execute_input": "2022-05-20T13:27:02.487516Z",
          "iopub.status.busy": "2022-05-20T13:27:02.487209Z",
          "iopub.status.idle": "2022-05-20T13:27:02.708306Z",
          "shell.execute_reply": "2022-05-20T13:27:02.707147Z"
        },
        "id": "pC_5Co8Zjbcc",
        "outputId": "17803303-7169-45e7-df52-f5590b5e00f2",
        "colab": {
          "base_uri": "https://localhost:8080/"
        }
      },
      "outputs": [
        {
          "output_type": "stream",
          "name": "stdout",
          "text": [
            "샘플 크기: (256, 120, 14)\n",
            "타깃 크기: (256,)\n"
          ]
        }
      ],
      "source": [
        "for samples, targets in train_dataset:\n",
        "    print(\"샘플 크기:\", samples.shape)\n",
        "    print(\"타깃 크기:\", targets.shape)\n",
        "    break"
      ]
    },
    {
      "cell_type": "markdown",
      "metadata": {
        "id": "vdYKKLDjjbcd"
      },
      "source": [
        "### 상식 수준의 기준점"
      ]
    },
    {
      "cell_type": "markdown",
      "metadata": {
        "id": "OABELWY3jbcd"
      },
      "source": [
        "**상식적인 기준 모델의 MAE 계산하기**"
      ]
    },
    {
      "cell_type": "code",
      "execution_count": 14,
      "metadata": {
        "execution": {
          "iopub.execute_input": "2022-05-20T13:27:02.712723Z",
          "iopub.status.busy": "2022-05-20T13:27:02.712259Z",
          "iopub.status.idle": "2022-05-20T13:27:12.831040Z",
          "shell.execute_reply": "2022-05-20T13:27:12.829972Z"
        },
        "id": "-ryWeRYljbcd",
        "outputId": "5142e26c-d188-45e1-edea-e0836b8befa6",
        "colab": {
          "base_uri": "https://localhost:8080/"
        }
      },
      "outputs": [
        {
          "output_type": "stream",
          "name": "stdout",
          "text": [
            "검증 MAE: 2.44\n",
            "테스트 MAE: 2.62\n"
          ]
        }
      ],
      "source": [
        "def evaluate_naive_method(dataset):\n",
        "    total_abs_err = 0.\n",
        "    samples_seen = 0\n",
        "    for samples, targets in dataset:\n",
        "        preds = samples[:, -1, 1] * std[1] + mean[1]\n",
        "        total_abs_err += np.sum(np.abs(preds - targets))\n",
        "        samples_seen += samples.shape[0]\n",
        "    return total_abs_err / samples_seen\n",
        "\n",
        "print(f\"검증 MAE: {evaluate_naive_method(val_dataset):.2f}\")\n",
        "print(f\"테스트 MAE: {evaluate_naive_method(test_dataset):.2f}\")"
      ]
    },
    {
      "cell_type": "markdown",
      "metadata": {
        "id": "AwYpH902jbcd"
      },
      "source": [
        "### 기본적인 머신 러닝 모델 시도해 보기"
      ]
    },
    {
      "cell_type": "markdown",
      "metadata": {
        "id": "g8shk8fVjbcd"
      },
      "source": [
        "**밀집 연결 모델 훈련하고 평가하기**"
      ]
    },
    {
      "cell_type": "code",
      "execution_count": 15,
      "metadata": {
        "execution": {
          "iopub.execute_input": "2022-05-20T13:27:12.835455Z",
          "iopub.status.busy": "2022-05-20T13:27:12.834662Z",
          "iopub.status.idle": "2022-05-20T13:30:16.406591Z",
          "shell.execute_reply": "2022-05-20T13:30:16.405650Z"
        },
        "id": "AnkykZycjbcd",
        "outputId": "eb2d3bb0-fce7-4d91-a55c-0faa39f7f59a",
        "colab": {
          "base_uri": "https://localhost:8080/",
          "height": 1000
        }
      },
      "outputs": [
        {
          "output_type": "stream",
          "name": "stdout",
          "text": [
            "Epoch 1/10\n"
          ]
        },
        {
          "output_type": "error",
          "ename": "InvalidArgumentError",
          "evalue": "Graph execution error:\n\nDetected at node functional_1/flatten_1/Reshape defined at (most recent call last):\n  File \"/usr/lib/python3.10/runpy.py\", line 196, in _run_module_as_main\n\n  File \"/usr/lib/python3.10/runpy.py\", line 86, in _run_code\n\n  File \"/usr/local/lib/python3.10/dist-packages/colab_kernel_launcher.py\", line 37, in <module>\n\n  File \"/usr/local/lib/python3.10/dist-packages/traitlets/config/application.py\", line 992, in launch_instance\n\n  File \"/usr/local/lib/python3.10/dist-packages/ipykernel/kernelapp.py\", line 619, in start\n\n  File \"/usr/local/lib/python3.10/dist-packages/tornado/platform/asyncio.py\", line 195, in start\n\n  File \"/usr/lib/python3.10/asyncio/base_events.py\", line 603, in run_forever\n\n  File \"/usr/lib/python3.10/asyncio/base_events.py\", line 1909, in _run_once\n\n  File \"/usr/lib/python3.10/asyncio/events.py\", line 80, in _run\n\n  File \"/usr/local/lib/python3.10/dist-packages/tornado/ioloop.py\", line 685, in <lambda>\n\n  File \"/usr/local/lib/python3.10/dist-packages/tornado/ioloop.py\", line 738, in _run_callback\n\n  File \"/usr/local/lib/python3.10/dist-packages/tornado/gen.py\", line 825, in inner\n\n  File \"/usr/local/lib/python3.10/dist-packages/tornado/gen.py\", line 786, in run\n\n  File \"/usr/local/lib/python3.10/dist-packages/ipykernel/kernelbase.py\", line 361, in process_one\n\n  File \"/usr/local/lib/python3.10/dist-packages/tornado/gen.py\", line 234, in wrapper\n\n  File \"/usr/local/lib/python3.10/dist-packages/ipykernel/kernelbase.py\", line 261, in dispatch_shell\n\n  File \"/usr/local/lib/python3.10/dist-packages/tornado/gen.py\", line 234, in wrapper\n\n  File \"/usr/local/lib/python3.10/dist-packages/ipykernel/kernelbase.py\", line 539, in execute_request\n\n  File \"/usr/local/lib/python3.10/dist-packages/tornado/gen.py\", line 234, in wrapper\n\n  File \"/usr/local/lib/python3.10/dist-packages/ipykernel/ipkernel.py\", line 302, in do_execute\n\n  File \"/usr/local/lib/python3.10/dist-packages/ipykernel/zmqshell.py\", line 539, in run_cell\n\n  File \"/usr/local/lib/python3.10/dist-packages/IPython/core/interactiveshell.py\", line 2975, in run_cell\n\n  File \"/usr/local/lib/python3.10/dist-packages/IPython/core/interactiveshell.py\", line 3030, in _run_cell\n\n  File \"/usr/local/lib/python3.10/dist-packages/IPython/core/async_helpers.py\", line 78, in _pseudo_sync_runner\n\n  File \"/usr/local/lib/python3.10/dist-packages/IPython/core/interactiveshell.py\", line 3257, in run_cell_async\n\n  File \"/usr/local/lib/python3.10/dist-packages/IPython/core/interactiveshell.py\", line 3473, in run_ast_nodes\n\n  File \"/usr/local/lib/python3.10/dist-packages/IPython/core/interactiveshell.py\", line 3553, in run_code\n\n  File \"<ipython-input-15-589115925c83>\", line 15, in <cell line: 15>\n\n  File \"/usr/local/lib/python3.10/dist-packages/keras/src/utils/traceback_utils.py\", line 117, in error_handler\n\n  File \"/usr/local/lib/python3.10/dist-packages/keras/src/backend/tensorflow/trainer.py\", line 318, in fit\n\n  File \"/usr/local/lib/python3.10/dist-packages/keras/src/backend/tensorflow/trainer.py\", line 121, in one_step_on_iterator\n\n  File \"/usr/local/lib/python3.10/dist-packages/keras/src/backend/tensorflow/trainer.py\", line 108, in one_step_on_data\n\n  File \"/usr/local/lib/python3.10/dist-packages/keras/src/backend/tensorflow/trainer.py\", line 51, in train_step\n\n  File \"/usr/local/lib/python3.10/dist-packages/keras/src/utils/traceback_utils.py\", line 117, in error_handler\n\n  File \"/usr/local/lib/python3.10/dist-packages/keras/src/layers/layer.py\", line 882, in __call__\n\n  File \"/usr/local/lib/python3.10/dist-packages/keras/src/utils/traceback_utils.py\", line 117, in error_handler\n\n  File \"/usr/local/lib/python3.10/dist-packages/keras/src/ops/operation.py\", line 46, in __call__\n\n  File \"/usr/local/lib/python3.10/dist-packages/keras/src/utils/traceback_utils.py\", line 156, in error_handler\n\n  File \"/usr/local/lib/python3.10/dist-packages/keras/src/models/functional.py\", line 175, in call\n\n  File \"/usr/local/lib/python3.10/dist-packages/keras/src/ops/function.py\", line 171, in _run_through_graph\n\n  File \"/usr/local/lib/python3.10/dist-packages/keras/src/models/functional.py\", line 556, in call\n\n  File \"/usr/local/lib/python3.10/dist-packages/keras/src/utils/traceback_utils.py\", line 117, in error_handler\n\n  File \"/usr/local/lib/python3.10/dist-packages/keras/src/layers/layer.py\", line 882, in __call__\n\n  File \"/usr/local/lib/python3.10/dist-packages/keras/src/utils/traceback_utils.py\", line 117, in error_handler\n\n  File \"/usr/local/lib/python3.10/dist-packages/keras/src/ops/operation.py\", line 46, in __call__\n\n  File \"/usr/local/lib/python3.10/dist-packages/keras/src/utils/traceback_utils.py\", line 156, in error_handler\n\n  File \"/usr/local/lib/python3.10/dist-packages/keras/src/layers/reshaping/flatten.py\", line 54, in call\n\n  File \"/usr/local/lib/python3.10/dist-packages/keras/src/ops/numpy.py\", line 4440, in reshape\n\n  File \"/usr/local/lib/python3.10/dist-packages/keras/src/backend/tensorflow/numpy.py\", line 1789, in reshape\n\nOnly one input size may be -1, not both 0 and 1\n\t [[{{node functional_1/flatten_1/Reshape}}]] [Op:__inference_one_step_on_iterator_10171]",
          "traceback": [
            "\u001b[0;31m---------------------------------------------------------------------------\u001b[0m",
            "\u001b[0;31mInvalidArgumentError\u001b[0m                      Traceback (most recent call last)",
            "\u001b[0;32m<ipython-input-15-589115925c83>\u001b[0m in \u001b[0;36m<cell line: 15>\u001b[0;34m()\u001b[0m\n\u001b[1;32m     13\u001b[0m ]\n\u001b[1;32m     14\u001b[0m \u001b[0mmodel\u001b[0m\u001b[0;34m.\u001b[0m\u001b[0mcompile\u001b[0m\u001b[0;34m(\u001b[0m\u001b[0moptimizer\u001b[0m\u001b[0;34m=\u001b[0m\u001b[0;34m\"rmsprop\"\u001b[0m\u001b[0;34m,\u001b[0m \u001b[0mloss\u001b[0m\u001b[0;34m=\u001b[0m\u001b[0;34m\"mse\"\u001b[0m\u001b[0;34m,\u001b[0m \u001b[0mmetrics\u001b[0m\u001b[0;34m=\u001b[0m\u001b[0;34m[\u001b[0m\u001b[0;34m\"mae\"\u001b[0m\u001b[0;34m]\u001b[0m\u001b[0;34m)\u001b[0m\u001b[0;34m\u001b[0m\u001b[0;34m\u001b[0m\u001b[0m\n\u001b[0;32m---> 15\u001b[0;31m history = model.fit(train_dataset,\n\u001b[0m\u001b[1;32m     16\u001b[0m                     \u001b[0mepochs\u001b[0m\u001b[0;34m=\u001b[0m\u001b[0;36m10\u001b[0m\u001b[0;34m,\u001b[0m\u001b[0;34m\u001b[0m\u001b[0;34m\u001b[0m\u001b[0m\n\u001b[1;32m     17\u001b[0m                     \u001b[0mvalidation_data\u001b[0m\u001b[0;34m=\u001b[0m\u001b[0mval_dataset\u001b[0m\u001b[0;34m,\u001b[0m\u001b[0;34m\u001b[0m\u001b[0;34m\u001b[0m\u001b[0m\n",
            "\u001b[0;32m/usr/local/lib/python3.10/dist-packages/keras/src/utils/traceback_utils.py\u001b[0m in \u001b[0;36merror_handler\u001b[0;34m(*args, **kwargs)\u001b[0m\n\u001b[1;32m    120\u001b[0m             \u001b[0;31m# To get the full stack trace, call:\u001b[0m\u001b[0;34m\u001b[0m\u001b[0;34m\u001b[0m\u001b[0m\n\u001b[1;32m    121\u001b[0m             \u001b[0;31m# `keras.config.disable_traceback_filtering()`\u001b[0m\u001b[0;34m\u001b[0m\u001b[0;34m\u001b[0m\u001b[0m\n\u001b[0;32m--> 122\u001b[0;31m             \u001b[0;32mraise\u001b[0m \u001b[0me\u001b[0m\u001b[0;34m.\u001b[0m\u001b[0mwith_traceback\u001b[0m\u001b[0;34m(\u001b[0m\u001b[0mfiltered_tb\u001b[0m\u001b[0;34m)\u001b[0m \u001b[0;32mfrom\u001b[0m \u001b[0;32mNone\u001b[0m\u001b[0;34m\u001b[0m\u001b[0;34m\u001b[0m\u001b[0m\n\u001b[0m\u001b[1;32m    123\u001b[0m         \u001b[0;32mfinally\u001b[0m\u001b[0;34m:\u001b[0m\u001b[0;34m\u001b[0m\u001b[0;34m\u001b[0m\u001b[0m\n\u001b[1;32m    124\u001b[0m             \u001b[0;32mdel\u001b[0m \u001b[0mfiltered_tb\u001b[0m\u001b[0;34m\u001b[0m\u001b[0;34m\u001b[0m\u001b[0m\n",
            "\u001b[0;32m/usr/local/lib/python3.10/dist-packages/tensorflow/python/eager/execute.py\u001b[0m in \u001b[0;36mquick_execute\u001b[0;34m(op_name, num_outputs, inputs, attrs, ctx, name)\u001b[0m\n\u001b[1;32m     51\u001b[0m   \u001b[0;32mtry\u001b[0m\u001b[0;34m:\u001b[0m\u001b[0;34m\u001b[0m\u001b[0;34m\u001b[0m\u001b[0m\n\u001b[1;32m     52\u001b[0m     \u001b[0mctx\u001b[0m\u001b[0;34m.\u001b[0m\u001b[0mensure_initialized\u001b[0m\u001b[0;34m(\u001b[0m\u001b[0;34m)\u001b[0m\u001b[0;34m\u001b[0m\u001b[0;34m\u001b[0m\u001b[0m\n\u001b[0;32m---> 53\u001b[0;31m     tensors = pywrap_tfe.TFE_Py_Execute(ctx._handle, device_name, op_name,\n\u001b[0m\u001b[1;32m     54\u001b[0m                                         inputs, attrs, num_outputs)\n\u001b[1;32m     55\u001b[0m   \u001b[0;32mexcept\u001b[0m \u001b[0mcore\u001b[0m\u001b[0;34m.\u001b[0m\u001b[0m_NotOkStatusException\u001b[0m \u001b[0;32mas\u001b[0m \u001b[0me\u001b[0m\u001b[0;34m:\u001b[0m\u001b[0;34m\u001b[0m\u001b[0;34m\u001b[0m\u001b[0m\n",
            "\u001b[0;31mInvalidArgumentError\u001b[0m: Graph execution error:\n\nDetected at node functional_1/flatten_1/Reshape defined at (most recent call last):\n  File \"/usr/lib/python3.10/runpy.py\", line 196, in _run_module_as_main\n\n  File \"/usr/lib/python3.10/runpy.py\", line 86, in _run_code\n\n  File \"/usr/local/lib/python3.10/dist-packages/colab_kernel_launcher.py\", line 37, in <module>\n\n  File \"/usr/local/lib/python3.10/dist-packages/traitlets/config/application.py\", line 992, in launch_instance\n\n  File \"/usr/local/lib/python3.10/dist-packages/ipykernel/kernelapp.py\", line 619, in start\n\n  File \"/usr/local/lib/python3.10/dist-packages/tornado/platform/asyncio.py\", line 195, in start\n\n  File \"/usr/lib/python3.10/asyncio/base_events.py\", line 603, in run_forever\n\n  File \"/usr/lib/python3.10/asyncio/base_events.py\", line 1909, in _run_once\n\n  File \"/usr/lib/python3.10/asyncio/events.py\", line 80, in _run\n\n  File \"/usr/local/lib/python3.10/dist-packages/tornado/ioloop.py\", line 685, in <lambda>\n\n  File \"/usr/local/lib/python3.10/dist-packages/tornado/ioloop.py\", line 738, in _run_callback\n\n  File \"/usr/local/lib/python3.10/dist-packages/tornado/gen.py\", line 825, in inner\n\n  File \"/usr/local/lib/python3.10/dist-packages/tornado/gen.py\", line 786, in run\n\n  File \"/usr/local/lib/python3.10/dist-packages/ipykernel/kernelbase.py\", line 361, in process_one\n\n  File \"/usr/local/lib/python3.10/dist-packages/tornado/gen.py\", line 234, in wrapper\n\n  File \"/usr/local/lib/python3.10/dist-packages/ipykernel/kernelbase.py\", line 261, in dispatch_shell\n\n  File \"/usr/local/lib/python3.10/dist-packages/tornado/gen.py\", line 234, in wrapper\n\n  File \"/usr/local/lib/python3.10/dist-packages/ipykernel/kernelbase.py\", line 539, in execute_request\n\n  File \"/usr/local/lib/python3.10/dist-packages/tornado/gen.py\", line 234, in wrapper\n\n  File \"/usr/local/lib/python3.10/dist-packages/ipykernel/ipkernel.py\", line 302, in do_execute\n\n  File \"/usr/local/lib/python3.10/dist-packages/ipykernel/zmqshell.py\", line 539, in run_cell\n\n  File \"/usr/local/lib/python3.10/dist-packages/IPython/core/interactiveshell.py\", line 2975, in run_cell\n\n  File \"/usr/local/lib/python3.10/dist-packages/IPython/core/interactiveshell.py\", line 3030, in _run_cell\n\n  File \"/usr/local/lib/python3.10/dist-packages/IPython/core/async_helpers.py\", line 78, in _pseudo_sync_runner\n\n  File \"/usr/local/lib/python3.10/dist-packages/IPython/core/interactiveshell.py\", line 3257, in run_cell_async\n\n  File \"/usr/local/lib/python3.10/dist-packages/IPython/core/interactiveshell.py\", line 3473, in run_ast_nodes\n\n  File \"/usr/local/lib/python3.10/dist-packages/IPython/core/interactiveshell.py\", line 3553, in run_code\n\n  File \"<ipython-input-15-589115925c83>\", line 15, in <cell line: 15>\n\n  File \"/usr/local/lib/python3.10/dist-packages/keras/src/utils/traceback_utils.py\", line 117, in error_handler\n\n  File \"/usr/local/lib/python3.10/dist-packages/keras/src/backend/tensorflow/trainer.py\", line 318, in fit\n\n  File \"/usr/local/lib/python3.10/dist-packages/keras/src/backend/tensorflow/trainer.py\", line 121, in one_step_on_iterator\n\n  File \"/usr/local/lib/python3.10/dist-packages/keras/src/backend/tensorflow/trainer.py\", line 108, in one_step_on_data\n\n  File \"/usr/local/lib/python3.10/dist-packages/keras/src/backend/tensorflow/trainer.py\", line 51, in train_step\n\n  File \"/usr/local/lib/python3.10/dist-packages/keras/src/utils/traceback_utils.py\", line 117, in error_handler\n\n  File \"/usr/local/lib/python3.10/dist-packages/keras/src/layers/layer.py\", line 882, in __call__\n\n  File \"/usr/local/lib/python3.10/dist-packages/keras/src/utils/traceback_utils.py\", line 117, in error_handler\n\n  File \"/usr/local/lib/python3.10/dist-packages/keras/src/ops/operation.py\", line 46, in __call__\n\n  File \"/usr/local/lib/python3.10/dist-packages/keras/src/utils/traceback_utils.py\", line 156, in error_handler\n\n  File \"/usr/local/lib/python3.10/dist-packages/keras/src/models/functional.py\", line 175, in call\n\n  File \"/usr/local/lib/python3.10/dist-packages/keras/src/ops/function.py\", line 171, in _run_through_graph\n\n  File \"/usr/local/lib/python3.10/dist-packages/keras/src/models/functional.py\", line 556, in call\n\n  File \"/usr/local/lib/python3.10/dist-packages/keras/src/utils/traceback_utils.py\", line 117, in error_handler\n\n  File \"/usr/local/lib/python3.10/dist-packages/keras/src/layers/layer.py\", line 882, in __call__\n\n  File \"/usr/local/lib/python3.10/dist-packages/keras/src/utils/traceback_utils.py\", line 117, in error_handler\n\n  File \"/usr/local/lib/python3.10/dist-packages/keras/src/ops/operation.py\", line 46, in __call__\n\n  File \"/usr/local/lib/python3.10/dist-packages/keras/src/utils/traceback_utils.py\", line 156, in error_handler\n\n  File \"/usr/local/lib/python3.10/dist-packages/keras/src/layers/reshaping/flatten.py\", line 54, in call\n\n  File \"/usr/local/lib/python3.10/dist-packages/keras/src/ops/numpy.py\", line 4440, in reshape\n\n  File \"/usr/local/lib/python3.10/dist-packages/keras/src/backend/tensorflow/numpy.py\", line 1789, in reshape\n\nOnly one input size may be -1, not both 0 and 1\n\t [[{{node functional_1/flatten_1/Reshape}}]] [Op:__inference_one_step_on_iterator_10171]"
          ]
        }
      ],
      "source": [
        "from tensorflow import keras\n",
        "from tensorflow.keras import layers\n",
        "\n",
        "inputs = keras.Input(shape=(sequence_length, raw_data.shape[-1]))\n",
        "x = layers.Flatten()(inputs)\n",
        "x = layers.Dense(16, activation=\"relu\")(x)\n",
        "outputs = layers.Dense(1)(x)\n",
        "model = keras.Model(inputs, outputs)\n",
        "\n",
        "callbacks = [\n",
        "    keras.callbacks.ModelCheckpoint(\"jena_dense_h5.keras\",\n",
        "                                    save_best_only=True)\n",
        "]\n",
        "model.compile(optimizer=\"rmsprop\", loss=\"mse\", metrics=[\"mae\"])\n",
        "history = model.fit(train_dataset,\n",
        "                    epochs=10,\n",
        "                    validation_data=val_dataset,\n",
        "                    callbacks=callbacks)\n",
        "\n",
        "model = keras.models.load_model(\"jena_dense_h5.keras\")\n",
        "print(f\"테스트 MAE: {model.evaluate(test_dataset)[1]:.2f}\")"
      ]
    },
    {
      "cell_type": "markdown",
      "metadata": {
        "id": "lmTjKA_qjbce"
      },
      "source": [
        "**결과 그래프 그리기**"
      ]
    },
    {
      "cell_type": "code",
      "execution_count": null,
      "metadata": {
        "execution": {
          "iopub.execute_input": "2022-05-20T13:30:16.410386Z",
          "iopub.status.busy": "2022-05-20T13:30:16.410076Z",
          "iopub.status.idle": "2022-05-20T13:30:16.562302Z",
          "shell.execute_reply": "2022-05-20T13:30:16.561390Z"
        },
        "id": "GE_ngKAZjbce",
        "outputId": "6006f14f-4028-4ffe-9c1a-68af96192938",
        "colab": {
          "base_uri": "https://localhost:8080/",
          "height": 452
        }
      },
      "outputs": [
        {
          "output_type": "display_data",
          "data": {
            "text/plain": [
              "<Figure size 640x480 with 1 Axes>"
            ],
            "image/png": "[encoded data removed]"
          },
          "metadata": {}
        }
      ],
      "source": [
        "import matplotlib.pyplot as plt\n",
        "loss = history.history[\"mae\"]\n",
        "val_loss = history.history[\"val_mae\"]\n",
        "epochs = range(1, len(loss) + 1)\n",
        "plt.figure()\n",
        "plt.plot(epochs, loss, \"bo\", label=\"Training MAE\")\n",
        "plt.plot(epochs, val_loss, \"b\", label=\"Validation MAE\")\n",
        "plt.title(\"Training and validation MAE\")\n",
        "plt.legend()\n",
        "plt.show()"
      ]
    },
    {
      "cell_type": "markdown",
      "metadata": {
        "id": "nHd3-Y89jbce"
      },
      "source": [
        "### 1D 합성곱 모델 시도해 보기"
      ]
    },
    {
      "cell_type": "code",
      "execution_count": 16,
      "metadata": {
        "execution": {
          "iopub.execute_input": "2022-05-20T13:30:16.566194Z",
          "iopub.status.busy": "2022-05-20T13:30:16.565904Z",
          "iopub.status.idle": "2022-05-20T13:35:49.724331Z",
          "shell.execute_reply": "2022-05-20T13:35:49.723349Z"
        },
        "id": "MIodgX8jjbce",
        "outputId": "094f2945-1695-49ba-db99-12ee71a45c52",
        "colab": {
          "base_uri": "https://localhost:8080/"
        }
      },
      "outputs": [
        {
          "output_type": "stream",
          "name": "stdout",
          "text": [
            "Epoch 1/10\n",
            "\u001b[1m819/819\u001b[0m \u001b[32m━━━━━━━━━━━━━━━━━━━━\u001b[0m\u001b[37m\u001b[0m \u001b[1m87s\u001b[0m 104ms/step - loss: 36.0941 - mae: 4.4917 - val_loss: 15.2605 - val_mae: 3.0685\n",
            "Epoch 2/10\n",
            "\u001b[1m819/819\u001b[0m \u001b[32m━━━━━━━━━━━━━━━━━━━━\u001b[0m\u001b[37m\u001b[0m \u001b[1m81s\u001b[0m 99ms/step - loss: 15.5658 - mae: 3.1382 - val_loss: 16.6039 - val_mae: 3.1958\n",
            "Epoch 3/10\n",
            "\u001b[1m819/819\u001b[0m \u001b[32m━━━━━━━━━━━━━━━━━━━━\u001b[0m\u001b[37m\u001b[0m \u001b[1m81s\u001b[0m 99ms/step - loss: 14.2824 - mae: 2.9986 - val_loss: 14.5441 - val_mae: 2.9873\n",
            "Epoch 4/10\n",
            "\u001b[1m819/819\u001b[0m \u001b[32m━━━━━━━━━━━━━━━━━━━━\u001b[0m\u001b[37m\u001b[0m \u001b[1m84s\u001b[0m 103ms/step - loss: 13.5260 - mae: 2.9231 - val_loss: 19.8871 - val_mae: 3.4951\n",
            "Epoch 5/10\n",
            "\u001b[1m819/819\u001b[0m \u001b[32m━━━━━━━━━━━━━━━━━━━━\u001b[0m\u001b[37m\u001b[0m \u001b[1m85s\u001b[0m 103ms/step - loss: 12.9317 - mae: 2.8545 - val_loss: 15.9393 - val_mae: 3.1240\n",
            "Epoch 6/10\n",
            "\u001b[1m819/819\u001b[0m \u001b[32m━━━━━━━━━━━━━━━━━━━━\u001b[0m\u001b[37m\u001b[0m \u001b[1m134s\u001b[0m 93ms/step - loss: 12.5288 - mae: 2.8067 - val_loss: 15.2747 - val_mae: 3.0720\n",
            "Epoch 7/10\n",
            "\u001b[1m819/819\u001b[0m \u001b[32m━━━━━━━━━━━━━━━━━━━━\u001b[0m\u001b[37m\u001b[0m \u001b[1m84s\u001b[0m 101ms/step - loss: 12.1041 - mae: 2.7574 - val_loss: 13.9741 - val_mae: 2.9666\n",
            "Epoch 8/10\n",
            "\u001b[1m819/819\u001b[0m \u001b[32m━━━━━━━━━━━━━━━━━━━━\u001b[0m\u001b[37m\u001b[0m \u001b[1m87s\u001b[0m 106ms/step - loss: 11.7331 - mae: 2.7114 - val_loss: 13.8123 - val_mae: 2.9195\n",
            "Epoch 9/10\n",
            "\u001b[1m819/819\u001b[0m \u001b[32m━━━━━━━━━━━━━━━━━━━━\u001b[0m\u001b[37m\u001b[0m \u001b[1m82s\u001b[0m 100ms/step - loss: 11.4371 - mae: 2.6762 - val_loss: 13.7390 - val_mae: 2.9159\n",
            "Epoch 10/10\n",
            "\u001b[1m819/819\u001b[0m \u001b[32m━━━━━━━━━━━━━━━━━━━━\u001b[0m\u001b[37m\u001b[0m \u001b[1m140s\u001b[0m 98ms/step - loss: 11.1375 - mae: 2.6400 - val_loss: 17.8921 - val_mae: 3.3357\n",
            "\u001b[1m405/405\u001b[0m \u001b[32m━━━━━━━━━━━━━━━━━━━━\u001b[0m\u001b[37m\u001b[0m \u001b[1m21s\u001b[0m 50ms/step - loss: 15.7652 - mae: 3.1175\n",
            "테스트 MAE: 3.11\n"
          ]
        }
      ],
      "source": [
        "inputs = keras.Input(shape=(sequence_length, raw_data.shape[-1]))\n",
        "x = layers.Conv1D(8, 24, activation=\"relu\")(inputs)\n",
        "x = layers.MaxPooling1D(2)(x)\n",
        "x = layers.Conv1D(8, 12, activation=\"relu\")(x)\n",
        "x = layers.MaxPooling1D(2)(x)\n",
        "x = layers.Conv1D(8, 6, activation=\"relu\")(x)\n",
        "x = layers.GlobalAveragePooling1D()(x)\n",
        "outputs = layers.Dense(1)(x)\n",
        "model = keras.Model(inputs, outputs)\n",
        "\n",
        "callbacks = [\n",
        "    keras.callbacks.ModelCheckpoint(\"jena_conv_h5.keras\",\n",
        "                                    save_best_only=True)\n",
        "]\n",
        "model.compile(optimizer=\"rmsprop\", loss=\"mse\", metrics=[\"mae\"])\n",
        "history = model.fit(train_dataset,\n",
        "                    epochs=10,\n",
        "                    validation_data=val_dataset,\n",
        "                    callbacks=callbacks)\n",
        "\n",
        "model = keras.models.load_model(\"jena_conv_h5.keras\")\n",
        "print(f\"테스트 MAE: {model.evaluate(test_dataset)[1]:.2f}\")"
      ]
    },
    {
      "cell_type": "code",
      "execution_count": 17,
      "metadata": {
        "execution": {
          "iopub.execute_input": "2022-05-20T13:35:49.728113Z",
          "iopub.status.busy": "2022-05-20T13:35:49.727783Z",
          "iopub.status.idle": "2022-05-20T13:35:49.850064Z",
          "shell.execute_reply": "2022-05-20T13:35:49.849311Z"
        },
        "id": "twXzOJXkjbce",
        "outputId": "c52e36ad-3e88-47e0-d1ce-42c818fd9957",
        "colab": {
          "base_uri": "https://localhost:8080/",
          "height": 452
        }
      },
      "outputs": [
        {
          "output_type": "display_data",
          "data": {
            "text/plain": [
              "<Figure size 640x480 with 1 Axes>"
            ],
            "image/png": "[encoded data removed]"
          },
          "metadata": {}
        }
      ],
      "source": [
        "loss = history.history[\"mae\"]\n",
        "val_loss = history.history[\"val_mae\"]\n",
        "epochs = range(1, len(loss) + 1)\n",
        "plt.figure()\n",
        "plt.plot(epochs, loss, \"bo\", label=\"Training MAE\")\n",
        "plt.plot(epochs, val_loss, \"b\", label=\"Validation MAE\")\n",
        "plt.title(\"Training and validation MAE\")\n",
        "plt.legend()\n",
        "plt.show()"
      ]
    },
    {
      "cell_type": "markdown",
      "metadata": {
        "id": "SIVEXb7ojbcf"
      },
      "source": [
        "### 첫 번째 순환 신경망"
      ]
    },
    {
      "cell_type": "markdown",
      "metadata": {
        "id": "KGsF8BjGjbcf"
      },
      "source": [
        "**간단한 LSTM 기반 모델**"
      ]
    },
    {
      "cell_type": "code",
      "execution_count": 18,
      "metadata": {
        "execution": {
          "iopub.execute_input": "2022-05-20T13:35:49.855589Z",
          "iopub.status.busy": "2022-05-20T13:35:49.855249Z",
          "iopub.status.idle": "2022-05-20T13:46:15.333207Z",
          "shell.execute_reply": "2022-05-20T13:46:15.332248Z"
        },
        "id": "ElIY09G2jbcg",
        "outputId": "86b9a8a3-9d4f-4d5b-ecfe-251a4a8da9bc",
        "colab": {
          "base_uri": "https://localhost:8080/"
        }
      },
      "outputs": [
        {
          "output_type": "stream",
          "name": "stdout",
          "text": [
            "Epoch 1/10\n",
            "\u001b[1m819/819\u001b[0m \u001b[32m━━━━━━━━━━━━━━━━━━━━\u001b[0m\u001b[37m\u001b[0m \u001b[1m102s\u001b[0m 122ms/step - loss: 62.0087 - mae: 5.9414 - val_loss: 11.6245 - val_mae: 2.6288\n",
            "Epoch 2/10\n",
            "\u001b[1m819/819\u001b[0m \u001b[32m━━━━━━━━━━━━━━━━━━━━\u001b[0m\u001b[37m\u001b[0m \u001b[1m100s\u001b[0m 122ms/step - loss: 11.2849 - mae: 2.6073 - val_loss: 10.0348 - val_mae: 2.4548\n",
            "Epoch 3/10\n",
            "\u001b[1m819/819\u001b[0m \u001b[32m━━━━━━━━━━━━━━━━━━━━\u001b[0m\u001b[37m\u001b[0m \u001b[1m99s\u001b[0m 120ms/step - loss: 9.7895 - mae: 2.4330 - val_loss: 10.0875 - val_mae: 2.4619\n",
            "Epoch 4/10\n",
            "\u001b[1m819/819\u001b[0m \u001b[32m━━━━━━━━━━━━━━━━━━━━\u001b[0m\u001b[37m\u001b[0m \u001b[1m143s\u001b[0m 122ms/step - loss: 9.3809 - mae: 2.3810 - val_loss: 9.9464 - val_mae: 2.4435\n",
            "Epoch 5/10\n",
            "\u001b[1m819/819\u001b[0m \u001b[32m━━━━━━━━━━━━━━━━━━━━\u001b[0m\u001b[37m\u001b[0m \u001b[1m142s\u001b[0m 122ms/step - loss: 9.1028 - mae: 2.3444 - val_loss: 9.9664 - val_mae: 2.4491\n",
            "Epoch 6/10\n",
            "\u001b[1m819/819\u001b[0m \u001b[32m━━━━━━━━━━━━━━━━━━━━\u001b[0m\u001b[37m\u001b[0m \u001b[1m100s\u001b[0m 122ms/step - loss: 8.8301 - mae: 2.3118 - val_loss: 10.0386 - val_mae: 2.4532\n",
            "Epoch 7/10\n",
            "\u001b[1m819/819\u001b[0m \u001b[32m━━━━━━━━━━━━━━━━━━━━\u001b[0m\u001b[37m\u001b[0m \u001b[1m160s\u001b[0m 144ms/step - loss: 8.5479 - mae: 2.2793 - val_loss: 10.2458 - val_mae: 2.4785\n",
            "Epoch 8/10\n",
            "\u001b[1m819/819\u001b[0m \u001b[32m━━━━━━━━━━━━━━━━━━━━\u001b[0m\u001b[37m\u001b[0m \u001b[1m125s\u001b[0m 124ms/step - loss: 8.2734 - mae: 2.2450 - val_loss: 10.1634 - val_mae: 2.4671\n",
            "Epoch 9/10\n",
            "\u001b[1m819/819\u001b[0m \u001b[32m━━━━━━━━━━━━━━━━━━━━\u001b[0m\u001b[37m\u001b[0m \u001b[1m101s\u001b[0m 123ms/step - loss: 8.0773 - mae: 2.2185 - val_loss: 10.0227 - val_mae: 2.4502\n",
            "Epoch 10/10\n",
            "\u001b[1m819/819\u001b[0m \u001b[32m━━━━━━━━━━━━━━━━━━━━\u001b[0m\u001b[37m\u001b[0m \u001b[1m119s\u001b[0m 145ms/step - loss: 7.8475 - mae: 2.1857 - val_loss: 10.1363 - val_mae: 2.4712\n",
            "\u001b[1m405/405\u001b[0m \u001b[32m━━━━━━━━━━━━━━━━━━━━\u001b[0m\u001b[37m\u001b[0m \u001b[1m26s\u001b[0m 61ms/step - loss: 11.4131 - mae: 2.6531\n",
            "테스트 MAE: 2.64\n"
          ]
        }
      ],
      "source": [
        "inputs = keras.Input(shape=(sequence_length, raw_data.shape[-1]))\n",
        "x = layers.LSTM(16)(inputs)\n",
        "outputs = layers.Dense(1)(x)\n",
        "model = keras.Model(inputs, outputs)\n",
        "\n",
        "callbacks = [\n",
        "    keras.callbacks.ModelCheckpoint(\"jena_lstm_h5.keras\",\n",
        "                                    save_best_only=True)\n",
        "]\n",
        "model.compile(optimizer=\"rmsprop\", loss=\"mse\", metrics=[\"mae\"])\n",
        "history = model.fit(train_dataset,\n",
        "                    epochs=10,\n",
        "                    validation_data=val_dataset,\n",
        "                    callbacks=callbacks)\n",
        "\n",
        "model = keras.models.load_model(\"jena_lstm_h5.keras\")\n",
        "print(f\"테스트 MAE: {model.evaluate(test_dataset)[1]:.2f}\")"
      ]
    },
    {
      "cell_type": "code",
      "execution_count": 19,
      "metadata": {
        "execution": {
          "iopub.execute_input": "2022-05-20T13:46:15.336897Z",
          "iopub.status.busy": "2022-05-20T13:46:15.336598Z",
          "iopub.status.idle": "2022-05-20T13:46:15.462410Z",
          "shell.execute_reply": "2022-05-20T13:46:15.461466Z"
        },
        "id": "EX3qK89tjbcg",
        "outputId": "55c1f9a3-700c-4110-d85b-5e1c2a66c7d3",
        "colab": {
          "base_uri": "https://localhost:8080/",
          "height": 452
        }
      },
      "outputs": [
        {
          "output_type": "display_data",
          "data": {
            "text/plain": [
              "<Figure size 640x480 with 1 Axes>"
            ],
            "image/png": "[encoded data removed]"
          },
          "metadata": {}
        }
      ],
      "source": [
        "loss = history.history[\"mae\"]\n",
        "val_loss = history.history[\"val_mae\"]\n",
        "epochs = range(1, len(loss) + 1)\n",
        "plt.figure()\n",
        "plt.plot(epochs, loss, \"bo\", label=\"Training MAE\")\n",
        "plt.plot(epochs, val_loss, \"b\", label=\"Validation MAE\")\n",
        "plt.title(\"Training and validation MAE\")\n",
        "plt.legend()\n",
        "plt.show()"
      ]
    },
    {
      "cell_type": "markdown",
      "metadata": {
        "id": "OjfiTkmOjbcg"
      },
      "source": [
        "## 순환 신경망 이해하기"
      ]
    },
    {
      "cell_type": "markdown",
      "metadata": {
        "id": "11qaJzuKjbcg"
      },
      "source": [
        "**넘파이로 구현한 간단한 RNN**"
      ]
    },
    {
      "cell_type": "code",
      "execution_count": 20,
      "metadata": {
        "execution": {
          "iopub.execute_input": "2022-05-20T13:46:15.466402Z",
          "iopub.status.busy": "2022-05-20T13:46:15.466102Z",
          "iopub.status.idle": "2022-05-20T13:46:15.474183Z",
          "shell.execute_reply": "2022-05-20T13:46:15.473353Z"
        },
        "id": "LqYsbiAGjbcg"
      },
      "outputs": [],
      "source": [
        "import numpy as np\n",
        "timesteps = 100\n",
        "input_features = 32\n",
        "output_features = 64\n",
        "inputs = np.random.random((timesteps, input_features))\n",
        "state_t = np.zeros((output_features,))\n",
        "W = np.random.random((output_features, input_features))\n",
        "U = np.random.random((output_features, output_features))\n",
        "b = np.random.random((output_features,))\n",
        "successive_outputs = []\n",
        "for input_t in inputs:\n",
        "    output_t = np.tanh(np.dot(W, input_t) + np.dot(U, state_t) + b)\n",
        "    successive_outputs.append(output_t)\n",
        "    state_t = output_t\n",
        "final_output_sequence = np.stack(successive_outputs, axis=0)"
      ]
    },
    {
      "cell_type": "markdown",
      "metadata": {
        "id": "m5_JDLW5jbch"
      },
      "source": [
        "### 케라스의 순환 층"
      ]
    },
    {
      "cell_type": "markdown",
      "metadata": {
        "id": "8scRPX8yjbch"
      },
      "source": [
        "**어떤 길이의 시퀀스도 처리할 수 있는 RNN 층**"
      ]
    },
    {
      "cell_type": "code",
      "execution_count": 21,
      "metadata": {
        "execution": {
          "iopub.execute_input": "2022-05-20T13:46:15.477895Z",
          "iopub.status.busy": "2022-05-20T13:46:15.477617Z",
          "iopub.status.idle": "2022-05-20T13:46:15.532690Z",
          "shell.execute_reply": "2022-05-20T13:46:15.531842Z"
        },
        "id": "RDRvy-SDjbch"
      },
      "outputs": [],
      "source": [
        "num_features = 14\n",
        "inputs = keras.Input(shape=(None, num_features))\n",
        "outputs = layers.SimpleRNN(16)(inputs)"
      ]
    },
    {
      "cell_type": "markdown",
      "metadata": {
        "id": "d_cZi_TVjbch"
      },
      "source": [
        "**마지막 출력 스텝만 반환하는 RNN 층**"
      ]
    },
    {
      "cell_type": "code",
      "execution_count": 22,
      "metadata": {
        "execution": {
          "iopub.execute_input": "2022-05-20T13:46:15.536872Z",
          "iopub.status.busy": "2022-05-20T13:46:15.536352Z",
          "iopub.status.idle": "2022-05-20T13:46:15.590222Z",
          "shell.execute_reply": "2022-05-20T13:46:15.589305Z"
        },
        "id": "7OpmWg1yjbch",
        "outputId": "83538e9c-cd7f-407c-9c3e-6086a59d539b",
        "colab": {
          "base_uri": "https://localhost:8080/"
        }
      },
      "outputs": [
        {
          "output_type": "stream",
          "name": "stdout",
          "text": [
            "(None, 16)\n"
          ]
        }
      ],
      "source": [
        "num_features = 14\n",
        "steps = 120\n",
        "inputs = keras.Input(shape=(steps, num_features))\n",
        "outputs = layers.SimpleRNN(16, return_sequences=False)(inputs)\n",
        "print(outputs.shape)"
      ]
    },
    {
      "cell_type": "markdown",
      "metadata": {
        "id": "MvXPhL0qjbch"
      },
      "source": [
        "**전체 출력 시퀀스를 반환하는 RNN 층**"
      ]
    },
    {
      "cell_type": "code",
      "execution_count": 23,
      "metadata": {
        "execution": {
          "iopub.execute_input": "2022-05-20T13:46:15.594315Z",
          "iopub.status.busy": "2022-05-20T13:46:15.593481Z",
          "iopub.status.idle": "2022-05-20T13:46:15.647526Z",
          "shell.execute_reply": "2022-05-20T13:46:15.646394Z"
        },
        "id": "jDKDaTY9jbch",
        "outputId": "4f6886e1-2a60-4fd6-ab28-740dc361ef3a",
        "colab": {
          "base_uri": "https://localhost:8080/"
        }
      },
      "outputs": [
        {
          "output_type": "stream",
          "name": "stdout",
          "text": [
            "(None, 120, 16)\n"
          ]
        }
      ],
      "source": [
        "num_features = 14\n",
        "steps = 120\n",
        "inputs = keras.Input(shape=(steps, num_features))\n",
        "outputs = layers.SimpleRNN(16, return_sequences=True)(inputs)\n",
        "print(outputs.shape)"
      ]
    },
    {
      "cell_type": "markdown",
      "metadata": {
        "id": "Twps5rVojbch"
      },
      "source": [
        "**스태킹(stacking) RNN 층**"
      ]
    },
    {
      "cell_type": "code",
      "execution_count": 24,
      "metadata": {
        "execution": {
          "iopub.execute_input": "2022-05-20T13:46:15.651371Z",
          "iopub.status.busy": "2022-05-20T13:46:15.651069Z",
          "iopub.status.idle": "2022-05-20T13:46:15.801889Z",
          "shell.execute_reply": "2022-05-20T13:46:15.801117Z"
        },
        "id": "WCXNh9L6jbci"
      },
      "outputs": [],
      "source": [
        "inputs = keras.Input(shape=(steps, num_features))\n",
        "x = layers.SimpleRNN(16, return_sequences=True)(inputs)\n",
        "x = layers.SimpleRNN(16, return_sequences=True)(x)\n",
        "outputs = layers.SimpleRNN(16)(x)"
      ]
    },
    {
      "cell_type": "markdown",
      "metadata": {
        "id": "5UTaHUSfjbci"
      },
      "source": [
        "## 순환 신경망의 고급 사용법"
      ]
    },
    {
      "cell_type": "markdown",
      "metadata": {
        "id": "HfvBqBgLjbci"
      },
      "source": [
        "### 과대적합을 감소하기 위해 순환 드롭아웃 사용하기"
      ]
    },
    {
      "cell_type": "markdown",
      "metadata": {
        "id": "tzGShMPQjbci"
      },
      "source": [
        "**드롭아웃 규제를 적용한 LSTM 모델 훈련하고 평가하기**"
      ]
    },
    {
      "cell_type": "code",
      "execution_count": 25,
      "metadata": {
        "execution": {
          "iopub.execute_input": "2022-05-20T13:46:15.806506Z",
          "iopub.status.busy": "2022-05-20T13:46:15.805817Z",
          "iopub.status.idle": "2022-05-20T15:04:54.368986Z",
          "shell.execute_reply": "2022-05-20T15:04:54.368048Z"
        },
        "id": "ZDfwJ1Osjbci",
        "outputId": "891afd15-240f-4f40-9d83-fccf1e382151",
        "colab": {
          "base_uri": "https://localhost:8080/"
        }
      },
      "outputs": [
        {
          "output_type": "stream",
          "name": "stdout",
          "text": [
            "Epoch 1/50\n",
            "\u001b[1m819/819\u001b[0m \u001b[32m━━━━━━━━━━━━━━━━━━━━\u001b[0m\u001b[37m\u001b[0m \u001b[1m130s\u001b[0m 156ms/step - loss: 45.0901 - mae: 4.9683 - val_loss: 10.2733 - val_mae: 2.4964\n",
            "Epoch 2/50\n",
            "\u001b[1m819/819\u001b[0m \u001b[32m━━━━━━━━━━━━━━━━━━━━\u001b[0m\u001b[37m\u001b[0m \u001b[1m143s\u001b[0m 157ms/step - loss: 14.8067 - mae: 2.9915 - val_loss: 9.4557 - val_mae: 2.3996\n",
            "Epoch 3/50\n",
            "\u001b[1m819/819\u001b[0m \u001b[32m━━━━━━━━━━━━━━━━━━━━\u001b[0m\u001b[37m\u001b[0m \u001b[1m129s\u001b[0m 157ms/step - loss: 13.7806 - mae: 2.8809 - val_loss: 9.4966 - val_mae: 2.4032\n",
            "Epoch 4/50\n",
            "\u001b[1m819/819\u001b[0m \u001b[32m━━━━━━━━━━━━━━━━━━━━\u001b[0m\u001b[37m\u001b[0m \u001b[1m144s\u001b[0m 159ms/step - loss: 13.1702 - mae: 2.8045 - val_loss: 9.6573 - val_mae: 2.4257\n",
            "Epoch 5/50\n",
            "\u001b[1m819/819\u001b[0m \u001b[32m━━━━━━━━━━━━━━━━━━━━\u001b[0m\u001b[37m\u001b[0m \u001b[1m128s\u001b[0m 156ms/step - loss: 12.5195 - mae: 2.7404 - val_loss: 9.8624 - val_mae: 2.4514\n",
            "Epoch 6/50\n",
            "\u001b[1m819/819\u001b[0m \u001b[32m━━━━━━━━━━━━━━━━━━━━\u001b[0m\u001b[37m\u001b[0m \u001b[1m142s\u001b[0m 174ms/step - loss: 11.9849 - mae: 2.6827 - val_loss: 9.8388 - val_mae: 2.4537\n",
            "Epoch 7/50\n",
            "\u001b[1m819/819\u001b[0m \u001b[32m━━━━━━━━━━━━━━━━━━━━\u001b[0m\u001b[37m\u001b[0m \u001b[1m193s\u001b[0m 163ms/step - loss: 11.4627 - mae: 2.6202 - val_loss: 10.0428 - val_mae: 2.4746\n",
            "Epoch 8/50\n",
            "\u001b[1m819/819\u001b[0m \u001b[32m━━━━━━━━━━━━━━━━━━━━\u001b[0m\u001b[37m\u001b[0m \u001b[1m132s\u001b[0m 161ms/step - loss: 11.2053 - mae: 2.5900 - val_loss: 9.9167 - val_mae: 2.4567\n",
            "Epoch 9/50\n",
            "\u001b[1m819/819\u001b[0m \u001b[32m━━━━━━━━━━━━━━━━━━━━\u001b[0m\u001b[37m\u001b[0m \u001b[1m132s\u001b[0m 161ms/step - loss: 10.9219 - mae: 2.5622 - val_loss: 10.3206 - val_mae: 2.5098\n",
            "Epoch 10/50\n",
            "\u001b[1m819/819\u001b[0m \u001b[32m━━━━━━━━━━━━━━━━━━━━\u001b[0m\u001b[37m\u001b[0m \u001b[1m133s\u001b[0m 162ms/step - loss: 10.6317 - mae: 2.5246 - val_loss: 10.0999 - val_mae: 2.4878\n",
            "Epoch 11/50\n",
            "\u001b[1m819/819\u001b[0m \u001b[32m━━━━━━━━━━━━━━━━━━━━\u001b[0m\u001b[37m\u001b[0m \u001b[1m142s\u001b[0m 161ms/step - loss: 10.4562 - mae: 2.5027 - val_loss: 10.6400 - val_mae: 2.5386\n",
            "Epoch 12/50\n",
            "\u001b[1m819/819\u001b[0m \u001b[32m━━━━━━━━━━━━━━━━━━━━\u001b[0m\u001b[37m\u001b[0m \u001b[1m141s\u001b[0m 160ms/step - loss: 10.1667 - mae: 2.4665 - val_loss: 11.0278 - val_mae: 2.5826\n",
            "Epoch 13/50\n",
            "\u001b[1m819/819\u001b[0m \u001b[32m━━━━━━━━━━━━━━━━━━━━\u001b[0m\u001b[37m\u001b[0m \u001b[1m130s\u001b[0m 159ms/step - loss: 10.0650 - mae: 2.4512 - val_loss: 10.6115 - val_mae: 2.5413\n",
            "Epoch 14/50\n",
            "\u001b[1m819/819\u001b[0m \u001b[32m━━━━━━━━━━━━━━━━━━━━\u001b[0m\u001b[37m\u001b[0m \u001b[1m131s\u001b[0m 159ms/step - loss: 9.9954 - mae: 2.4450 - val_loss: 10.3305 - val_mae: 2.5055\n",
            "Epoch 15/50\n",
            "\u001b[1m819/819\u001b[0m \u001b[32m━━━━━━━━━━━━━━━━━━━━\u001b[0m\u001b[37m\u001b[0m \u001b[1m132s\u001b[0m 160ms/step - loss: 9.8510 - mae: 2.4238 - val_loss: 10.5242 - val_mae: 2.5308\n",
            "Epoch 16/50\n",
            "\u001b[1m819/819\u001b[0m \u001b[32m━━━━━━━━━━━━━━━━━━━━\u001b[0m\u001b[37m\u001b[0m \u001b[1m132s\u001b[0m 161ms/step - loss: 9.6743 - mae: 2.4054 - val_loss: 10.4650 - val_mae: 2.5329\n",
            "Epoch 17/50\n",
            "\u001b[1m819/819\u001b[0m \u001b[32m━━━━━━━━━━━━━━━━━━━━\u001b[0m\u001b[37m\u001b[0m \u001b[1m132s\u001b[0m 161ms/step - loss: 9.3916 - mae: 2.3640 - val_loss: 11.1841 - val_mae: 2.6007\n",
            "Epoch 18/50\n",
            "\u001b[1m819/819\u001b[0m \u001b[32m━━━━━━━━━━━━━━━━━━━━\u001b[0m\u001b[37m\u001b[0m \u001b[1m130s\u001b[0m 158ms/step - loss: 9.1991 - mae: 2.3439 - val_loss: 10.7550 - val_mae: 2.5646\n",
            "Epoch 19/50\n",
            "\u001b[1m819/819\u001b[0m \u001b[32m━━━━━━━━━━━━━━━━━━━━\u001b[0m\u001b[37m\u001b[0m \u001b[1m133s\u001b[0m 163ms/step - loss: 9.1688 - mae: 2.3393 - val_loss: 11.2687 - val_mae: 2.6290\n",
            "Epoch 20/50\n",
            "\u001b[1m819/819\u001b[0m \u001b[32m━━━━━━━━━━━━━━━━━━━━\u001b[0m\u001b[37m\u001b[0m \u001b[1m140s\u001b[0m 161ms/step - loss: 9.1617 - mae: 2.3337 - val_loss: 11.2912 - val_mae: 2.6268\n",
            "Epoch 21/50\n",
            "\u001b[1m819/819\u001b[0m \u001b[32m━━━━━━━━━━━━━━━━━━━━\u001b[0m\u001b[37m\u001b[0m \u001b[1m132s\u001b[0m 161ms/step - loss: 8.8788 - mae: 2.3033 - val_loss: 10.9249 - val_mae: 2.5757\n",
            "Epoch 22/50\n",
            "\u001b[1m819/819\u001b[0m \u001b[32m━━━━━━━━━━━━━━━━━━━━\u001b[0m\u001b[37m\u001b[0m \u001b[1m129s\u001b[0m 157ms/step - loss: 8.7619 - mae: 2.2860 - val_loss: 11.8579 - val_mae: 2.7030\n",
            "Epoch 23/50\n",
            "\u001b[1m819/819\u001b[0m \u001b[32m━━━━━━━━━━━━━━━━━━━━\u001b[0m\u001b[37m\u001b[0m \u001b[1m146s\u001b[0m 162ms/step - loss: 8.7677 - mae: 2.2889 - val_loss: 11.0890 - val_mae: 2.6069\n",
            "Epoch 24/50\n",
            "\u001b[1m819/819\u001b[0m \u001b[32m━━━━━━━━━━━━━━━━━━━━\u001b[0m\u001b[37m\u001b[0m \u001b[1m154s\u001b[0m 177ms/step - loss: 8.6402 - mae: 2.2700 - val_loss: 11.1793 - val_mae: 2.6152\n",
            "Epoch 25/50\n",
            "\u001b[1m819/819\u001b[0m \u001b[32m━━━━━━━━━━━━━━━━━━━━\u001b[0m\u001b[37m\u001b[0m \u001b[1m187s\u001b[0m 159ms/step - loss: 8.5937 - mae: 2.2628 - val_loss: 11.1920 - val_mae: 2.6248\n",
            "Epoch 26/50\n",
            "\u001b[1m819/819\u001b[0m \u001b[32m━━━━━━━━━━━━━━━━━━━━\u001b[0m\u001b[37m\u001b[0m \u001b[1m144s\u001b[0m 161ms/step - loss: 8.4727 - mae: 2.2498 - val_loss: 11.7209 - val_mae: 2.6837\n",
            "Epoch 27/50\n",
            "\u001b[1m819/819\u001b[0m \u001b[32m━━━━━━━━━━━━━━━━━━━━\u001b[0m\u001b[37m\u001b[0m \u001b[1m133s\u001b[0m 162ms/step - loss: 8.6930 - mae: 2.2753 - val_loss: 11.4674 - val_mae: 2.6548\n",
            "Epoch 28/50\n",
            "\u001b[1m819/819\u001b[0m \u001b[32m━━━━━━━━━━━━━━━━━━━━\u001b[0m\u001b[37m\u001b[0m \u001b[1m156s\u001b[0m 179ms/step - loss: 8.2996 - mae: 2.2262 - val_loss: 11.3526 - val_mae: 2.6493\n",
            "Epoch 29/50\n",
            "\u001b[1m819/819\u001b[0m \u001b[32m━━━━━━━━━━━━━━━━━━━━\u001b[0m\u001b[37m\u001b[0m \u001b[1m187s\u001b[0m 161ms/step - loss: 8.2540 - mae: 2.2195 - val_loss: 12.0164 - val_mae: 2.7197\n",
            "Epoch 30/50\n",
            "\u001b[1m819/819\u001b[0m \u001b[32m━━━━━━━━━━━━━━━━━━━━\u001b[0m\u001b[37m\u001b[0m \u001b[1m130s\u001b[0m 159ms/step - loss: 8.1092 - mae: 2.2008 - val_loss: 11.7283 - val_mae: 2.6976\n",
            "Epoch 31/50\n",
            "\u001b[1m819/819\u001b[0m \u001b[32m━━━━━━━━━━━━━━━━━━━━\u001b[0m\u001b[37m\u001b[0m \u001b[1m145s\u001b[0m 162ms/step - loss: 8.2123 - mae: 2.2127 - val_loss: 11.7457 - val_mae: 2.6862\n",
            "Epoch 32/50\n",
            "\u001b[1m819/819\u001b[0m \u001b[32m━━━━━━━━━━━━━━━━━━━━\u001b[0m\u001b[37m\u001b[0m \u001b[1m133s\u001b[0m 163ms/step - loss: 8.1107 - mae: 2.2012 - val_loss: 11.4919 - val_mae: 2.6694\n",
            "Epoch 33/50\n",
            "\u001b[1m819/819\u001b[0m \u001b[32m━━━━━━━━━━━━━━━━━━━━\u001b[0m\u001b[37m\u001b[0m \u001b[1m141s\u001b[0m 161ms/step - loss: 8.0437 - mae: 2.1873 - val_loss: 11.9529 - val_mae: 2.7076\n",
            "Epoch 34/50\n",
            "\u001b[1m819/819\u001b[0m \u001b[32m━━━━━━━━━━━━━━━━━━━━\u001b[0m\u001b[37m\u001b[0m \u001b[1m131s\u001b[0m 160ms/step - loss: 7.9555 - mae: 2.1744 - val_loss: 11.5533 - val_mae: 2.6770\n",
            "Epoch 35/50\n",
            "\u001b[1m819/819\u001b[0m \u001b[32m━━━━━━━━━━━━━━━━━━━━\u001b[0m\u001b[37m\u001b[0m \u001b[1m132s\u001b[0m 161ms/step - loss: 7.9848 - mae: 2.1835 - val_loss: 11.5152 - val_mae: 2.6756\n",
            "Epoch 36/50\n",
            "\u001b[1m819/819\u001b[0m \u001b[32m━━━━━━━━━━━━━━━━━━━━\u001b[0m\u001b[37m\u001b[0m \u001b[1m134s\u001b[0m 163ms/step - loss: 7.8452 - mae: 2.1638 - val_loss: 11.8150 - val_mae: 2.7127\n",
            "Epoch 37/50\n",
            "\u001b[1m819/819\u001b[0m \u001b[32m━━━━━━━━━━━━━━━━━━━━\u001b[0m\u001b[37m\u001b[0m \u001b[1m131s\u001b[0m 160ms/step - loss: 7.8081 - mae: 2.1549 - val_loss: 11.3906 - val_mae: 2.6475\n",
            "Epoch 38/50\n",
            "\u001b[1m819/819\u001b[0m \u001b[32m━━━━━━━━━━━━━━━━━━━━\u001b[0m\u001b[37m\u001b[0m \u001b[1m142s\u001b[0m 160ms/step - loss: 7.8442 - mae: 2.1595 - val_loss: 11.7727 - val_mae: 2.6960\n",
            "Epoch 39/50\n",
            "\u001b[1m819/819\u001b[0m \u001b[32m━━━━━━━━━━━━━━━━━━━━\u001b[0m\u001b[37m\u001b[0m \u001b[1m142s\u001b[0m 161ms/step - loss: 7.7866 - mae: 2.1519 - val_loss: 11.8434 - val_mae: 2.7035\n",
            "Epoch 40/50\n",
            "\u001b[1m819/819\u001b[0m \u001b[32m━━━━━━━━━━━━━━━━━━━━\u001b[0m\u001b[37m\u001b[0m \u001b[1m132s\u001b[0m 161ms/step - loss: 7.6747 - mae: 2.1391 - val_loss: 11.9664 - val_mae: 2.7204\n",
            "Epoch 41/50\n",
            "\u001b[1m819/819\u001b[0m \u001b[32m━━━━━━━━━━━━━━━━━━━━\u001b[0m\u001b[37m\u001b[0m \u001b[1m140s\u001b[0m 158ms/step - loss: 7.7258 - mae: 2.1436 - val_loss: 12.2160 - val_mae: 2.7415\n",
            "Epoch 42/50\n",
            "\u001b[1m819/819\u001b[0m \u001b[32m━━━━━━━━━━━━━━━━━━━━\u001b[0m\u001b[37m\u001b[0m \u001b[1m144s\u001b[0m 160ms/step - loss: 7.5879 - mae: 2.1275 - val_loss: 13.4082 - val_mae: 2.8615\n",
            "Epoch 43/50\n",
            "\u001b[1m819/819\u001b[0m \u001b[32m━━━━━━━━━━━━━━━━━━━━\u001b[0m\u001b[37m\u001b[0m \u001b[1m142s\u001b[0m 160ms/step - loss: 7.5821 - mae: 2.1258 - val_loss: 11.9941 - val_mae: 2.7241\n",
            "Epoch 44/50\n",
            "\u001b[1m819/819\u001b[0m \u001b[32m━━━━━━━━━━━━━━━━━━━━\u001b[0m\u001b[37m\u001b[0m \u001b[1m144s\u001b[0m 163ms/step - loss: 7.5340 - mae: 2.1176 - val_loss: 12.9557 - val_mae: 2.8333\n",
            "Epoch 45/50\n",
            "\u001b[1m819/819\u001b[0m \u001b[32m━━━━━━━━━━━━━━━━━━━━\u001b[0m\u001b[37m\u001b[0m \u001b[1m139s\u001b[0m 159ms/step - loss: 7.5402 - mae: 2.1183 - val_loss: 11.8214 - val_mae: 2.7080\n",
            "Epoch 46/50\n",
            "\u001b[1m819/819\u001b[0m \u001b[32m━━━━━━━━━━━━━━━━━━━━\u001b[0m\u001b[37m\u001b[0m \u001b[1m143s\u001b[0m 175ms/step - loss: 7.4508 - mae: 2.1052 - val_loss: 13.1936 - val_mae: 2.8451\n",
            "Epoch 47/50\n",
            "\u001b[1m819/819\u001b[0m \u001b[32m━━━━━━━━━━━━━━━━━━━━\u001b[0m\u001b[37m\u001b[0m \u001b[1m203s\u001b[0m 176ms/step - loss: 7.4164 - mae: 2.1044 - val_loss: 12.0021 - val_mae: 2.7226\n",
            "Epoch 48/50\n",
            "\u001b[1m819/819\u001b[0m \u001b[32m━━━━━━━━━━━━━━━━━━━━\u001b[0m\u001b[37m\u001b[0m \u001b[1m132s\u001b[0m 160ms/step - loss: 7.3555 - mae: 2.0912 - val_loss: 13.0551 - val_mae: 2.8314\n",
            "Epoch 49/50\n",
            "\u001b[1m819/819\u001b[0m \u001b[32m━━━━━━━━━━━━━━━━━━━━\u001b[0m\u001b[37m\u001b[0m \u001b[1m141s\u001b[0m 159ms/step - loss: 7.2830 - mae: 2.0827 - val_loss: 12.7631 - val_mae: 2.8205\n",
            "Epoch 50/50\n",
            "\u001b[1m819/819\u001b[0m \u001b[32m━━━━━━━━━━━━━━━━━━━━\u001b[0m\u001b[37m\u001b[0m \u001b[1m130s\u001b[0m 158ms/step - loss: 7.3483 - mae: 2.0934 - val_loss: 12.0254 - val_mae: 2.7267\n"
          ]
        }
      ],
      "source": [
        "inputs = keras.Input(shape=(sequence_length, raw_data.shape[-1]))\n",
        "# 훈련 속도를 놓이기 위해 순환 드롭아웃을 제외합니다.\n",
        "#x = layers.LSTM(32, recurrent_dropout=0.25)(inputs)\n",
        "x = layers.LSTM(32)(inputs)\n",
        "x = layers.Dropout(0.5)(x)\n",
        "outputs = layers.Dense(1)(x)\n",
        "model = keras.Model(inputs, outputs)\n",
        "\n",
        "callbacks = [\n",
        "    keras.callbacks.ModelCheckpoint(\"jena_lstm_dropout_h5.keras\",\n",
        "                                    save_best_only=True)\n",
        "]\n",
        "model.compile(optimizer=\"rmsprop\", loss=\"mse\", metrics=[\"mae\"])\n",
        "history = model.fit(train_dataset,\n",
        "                    epochs=50,\n",
        "                    validation_data=val_dataset,\n",
        "                    callbacks=callbacks)"
      ]
    },
    {
      "cell_type": "code",
      "execution_count": 27,
      "metadata": {
        "execution": {
          "iopub.execute_input": "2022-05-20T15:04:54.372845Z",
          "iopub.status.busy": "2022-05-20T15:04:54.372302Z",
          "iopub.status.idle": "2022-05-20T15:04:54.500136Z",
          "shell.execute_reply": "2022-05-20T15:04:54.499227Z"
        },
        "id": "TUqqYeRgjbci",
        "outputId": "f61e2057-04b8-4b2f-8792-6d4a103b2d80",
        "colab": {
          "base_uri": "https://localhost:8080/",
          "height": 452
        }
      },
      "outputs": [
        {
          "output_type": "display_data",
          "data": {
            "text/plain": [
              "<Figure size 640x480 with 1 Axes>"
            ],
            "image/png": "[encoded data removed]"
          },
          "metadata": {}
        }
      ],
      "source": [
        "loss = history.history[\"mae\"]\n",
        "val_loss = history.history[\"val_mae\"]\n",
        "epochs = range(1, len(loss) + 1)\n",
        "plt.figure()\n",
        "plt.plot(epochs, loss, \"bo\", label=\"Training MAE\")\n",
        "plt.plot(epochs, val_loss, \"b\", label=\"Validation MAE\")\n",
        "plt.title(\"Training and validation MAE\")\n",
        "plt.legend()\n",
        "plt.show()"
      ]
    },
    {
      "cell_type": "code",
      "execution_count": 28,
      "metadata": {
        "execution": {
          "iopub.execute_input": "2022-05-20T15:04:54.505555Z",
          "iopub.status.busy": "2022-05-20T15:04:54.504713Z",
          "iopub.status.idle": "2022-05-20T15:04:57.937020Z",
          "shell.execute_reply": "2022-05-20T15:04:57.935916Z"
        },
        "id": "u_-Jap5vjbcj"
      },
      "outputs": [],
      "source": [
        "inputs = keras.Input(shape=(sequence_length, num_features))\n",
        "x = layers.LSTM(32, recurrent_dropout=0.2, unroll=True)(inputs)"
      ]
    },
    {
      "cell_type": "markdown",
      "metadata": {
        "id": "dIAEo0Ttjbcj"
      },
      "source": [
        "### 스태킹 순환 층"
      ]
    },
    {
      "cell_type": "markdown",
      "metadata": {
        "id": "9AfaRKy2jbcj"
      },
      "source": [
        "**드롭아웃 규제와 스태킹을 적용한 GRU 모델을 훈련하고 평가하기**"
      ]
    },
    {
      "cell_type": "code",
      "execution_count": null,
      "metadata": {
        "execution": {
          "iopub.execute_input": "2022-05-20T15:04:57.941005Z",
          "iopub.status.busy": "2022-05-20T15:04:57.940685Z",
          "iopub.status.idle": "2022-05-20T17:21:17.499207Z",
          "shell.execute_reply": "2022-05-20T17:21:17.498103Z"
        },
        "id": "-v7IqHRsjbcj",
        "outputId": "33e7d895-4f9a-4745-e138-1083978290c0",
        "colab": {
          "base_uri": "https://localhost:8080/"
        }
      },
      "outputs": [
        {
          "output_type": "stream",
          "name": "stdout",
          "text": [
            "Epoch 1/50\n",
            "819/819 [==============================] - 51s 58ms/step - loss: 22.8440 - mae: 3.5376 - val_loss: 10.0216 - val_mae: 2.4642\n",
            "Epoch 2/50\n",
            "819/819 [==============================] - 48s 58ms/step - loss: 13.4467 - mae: 2.8365 - val_loss: 9.1210 - val_mae: 2.3532\n",
            "Epoch 3/50\n",
            "819/819 [==============================] - 45s 55ms/step - loss: 12.5574 - mae: 2.7434 - val_loss: 8.7419 - val_mae: 2.2949\n",
            "Epoch 4/50\n",
            "819/819 [==============================] - 46s 56ms/step - loss: 11.7473 - mae: 2.6557 - val_loss: 9.0236 - val_mae: 2.3442\n",
            "Epoch 5/50\n",
            "819/819 [==============================] - 54s 65ms/step - loss: 11.1289 - mae: 2.5857 - val_loss: 9.2370 - val_mae: 2.3689\n",
            "Epoch 6/50\n",
            "819/819 [==============================] - 45s 55ms/step - loss: 10.4581 - mae: 2.5057 - val_loss: 9.5454 - val_mae: 2.4172\n",
            "Epoch 7/50\n",
            "819/819 [==============================] - 47s 58ms/step - loss: 9.8363 - mae: 2.4268 - val_loss: 10.0694 - val_mae: 2.4758\n",
            "Epoch 8/50\n",
            "819/819 [==============================] - 47s 57ms/step - loss: 9.2070 - mae: 2.3489 - val_loss: 11.8144 - val_mae: 2.6840\n",
            "Epoch 9/50\n",
            "819/819 [==============================] - 45s 55ms/step - loss: 8.6518 - mae: 2.2719 - val_loss: 10.4207 - val_mae: 2.5372\n",
            "Epoch 10/50\n",
            "819/819 [==============================] - 45s 54ms/step - loss: 8.1494 - mae: 2.2023 - val_loss: 10.8794 - val_mae: 2.5728\n",
            "Epoch 11/50\n",
            "819/819 [==============================] - 56s 68ms/step - loss: 7.7268 - mae: 2.1437 - val_loss: 11.0731 - val_mae: 2.6115\n",
            "Epoch 12/50\n",
            "819/819 [==============================] - 48s 59ms/step - loss: 7.3437 - mae: 2.0845 - val_loss: 11.2584 - val_mae: 2.6359\n",
            "Epoch 13/50\n",
            "819/819 [==============================] - 45s 54ms/step - loss: 6.9795 - mae: 2.0310 - val_loss: 11.4462 - val_mae: 2.6616\n",
            "Epoch 14/50\n",
            "819/819 [==============================] - 46s 56ms/step - loss: 6.7458 - mae: 1.9899 - val_loss: 11.4366 - val_mae: 2.6633\n",
            "Epoch 15/50\n",
            "819/819 [==============================] - 47s 57ms/step - loss: 6.4761 - mae: 1.9494 - val_loss: 13.3479 - val_mae: 2.8778\n",
            "Epoch 16/50\n",
            "819/819 [==============================] - 48s 58ms/step - loss: 6.2376 - mae: 1.9104 - val_loss: 12.4025 - val_mae: 2.7766\n",
            "Epoch 17/50\n",
            "819/819 [==============================] - 53s 64ms/step - loss: 6.0623 - mae: 1.8815 - val_loss: 12.0828 - val_mae: 2.7340\n",
            "Epoch 18/50\n",
            "819/819 [==============================] - 47s 57ms/step - loss: 5.9401 - mae: 1.8583 - val_loss: 12.4278 - val_mae: 2.7732\n",
            "Epoch 19/50\n",
            "819/819 [==============================] - 46s 56ms/step - loss: 5.7513 - mae: 1.8275 - val_loss: 12.9756 - val_mae: 2.8379\n",
            "Epoch 20/50\n",
            "819/819 [==============================] - 46s 56ms/step - loss: 5.6277 - mae: 1.8082 - val_loss: 12.3878 - val_mae: 2.7626\n",
            "Epoch 21/50\n",
            "819/819 [==============================] - 47s 57ms/step - loss: 5.5174 - mae: 1.7923 - val_loss: 12.5262 - val_mae: 2.7857\n",
            "Epoch 22/50\n",
            "819/819 [==============================] - 45s 55ms/step - loss: 5.4402 - mae: 1.7751 - val_loss: 12.8304 - val_mae: 2.8223\n",
            "Epoch 23/50\n",
            "819/819 [==============================] - 47s 57ms/step - loss: 5.2961 - mae: 1.7504 - val_loss: 12.7924 - val_mae: 2.8134\n",
            "Epoch 24/50\n",
            "819/819 [==============================] - 48s 59ms/step - loss: 5.2390 - mae: 1.7407 - val_loss: 12.9842 - val_mae: 2.8528\n",
            "Epoch 25/50\n",
            "819/819 [==============================] - 54s 65ms/step - loss: 5.1705 - mae: 1.7261 - val_loss: 12.5561 - val_mae: 2.7865\n",
            "Epoch 26/50\n",
            "819/819 [==============================] - 49s 59ms/step - loss: 5.0919 - mae: 1.7113 - val_loss: 13.1329 - val_mae: 2.8616\n",
            "Epoch 27/50\n",
            "819/819 [==============================] - 49s 59ms/step - loss: 5.0037 - mae: 1.6965 - val_loss: 13.1333 - val_mae: 2.8493\n",
            "Epoch 28/50\n",
            "819/819 [==============================] - 48s 58ms/step - loss: 4.9409 - mae: 1.6856 - val_loss: 13.0040 - val_mae: 2.8309\n",
            "Epoch 29/50\n",
            "819/819 [==============================] - 47s 57ms/step - loss: 4.9046 - mae: 1.6768 - val_loss: 13.2298 - val_mae: 2.8646\n",
            "Epoch 30/50\n",
            "819/819 [==============================] - 48s 59ms/step - loss: 4.8342 - mae: 1.6648 - val_loss: 13.7260 - val_mae: 2.9129\n",
            "Epoch 31/50\n",
            "819/819 [==============================] - 48s 59ms/step - loss: 4.7925 - mae: 1.6568 - val_loss: 12.8225 - val_mae: 2.8170\n",
            "Epoch 32/50\n",
            "819/819 [==============================] - 50s 60ms/step - loss: 4.7432 - mae: 1.6477 - val_loss: 12.9575 - val_mae: 2.8242\n",
            "Epoch 33/50\n",
            "819/819 [==============================] - 47s 57ms/step - loss: 4.7277 - mae: 1.6438 - val_loss: 12.9113 - val_mae: 2.8201\n",
            "Epoch 34/50\n",
            "819/819 [==============================] - 45s 55ms/step - loss: 4.6971 - mae: 1.6360 - val_loss: 13.4627 - val_mae: 2.9010\n",
            "Epoch 35/50\n",
            "819/819 [==============================] - 49s 59ms/step - loss: 4.6079 - mae: 1.6224 - val_loss: 13.0904 - val_mae: 2.8473\n",
            "Epoch 36/50\n",
            "819/819 [==============================] - 50s 60ms/step - loss: 4.5908 - mae: 1.6170 - val_loss: 13.4342 - val_mae: 2.8787\n",
            "Epoch 37/50\n",
            "819/819 [==============================] - 45s 55ms/step - loss: 4.5897 - mae: 1.6144 - val_loss: 13.5889 - val_mae: 2.9002\n",
            "Epoch 38/50\n",
            "819/819 [==============================] - 56s 68ms/step - loss: 4.5562 - mae: 1.6073 - val_loss: 13.3792 - val_mae: 2.8734\n",
            "Epoch 39/50\n",
            "819/819 [==============================] - 48s 59ms/step - loss: 4.5062 - mae: 1.6011 - val_loss: 13.3669 - val_mae: 2.8576\n",
            "Epoch 40/50\n",
            "819/819 [==============================] - 49s 60ms/step - loss: 4.4988 - mae: 1.5970 - val_loss: 13.5926 - val_mae: 2.8983\n",
            "Epoch 41/50\n",
            "819/819 [==============================] - 49s 59ms/step - loss: 4.4507 - mae: 1.5877 - val_loss: 13.0201 - val_mae: 2.8481\n",
            "Epoch 42/50\n",
            "819/819 [==============================] - 56s 68ms/step - loss: 4.4428 - mae: 1.5861 - val_loss: 13.8423 - val_mae: 2.9251\n",
            "Epoch 43/50\n",
            "819/819 [==============================] - 48s 58ms/step - loss: 4.4128 - mae: 1.5829 - val_loss: 13.0376 - val_mae: 2.8410\n",
            "Epoch 44/50\n",
            "819/819 [==============================] - 48s 59ms/step - loss: 4.3728 - mae: 1.5722 - val_loss: 13.5246 - val_mae: 2.8782\n",
            "Epoch 45/50\n",
            "819/819 [==============================] - 48s 58ms/step - loss: 4.3393 - mae: 1.5665 - val_loss: 13.6383 - val_mae: 2.8924\n",
            "Epoch 46/50\n",
            "819/819 [==============================] - 47s 57ms/step - loss: 4.3161 - mae: 1.5642 - val_loss: 13.2954 - val_mae: 2.8655\n",
            "Epoch 47/50\n",
            "819/819 [==============================] - 49s 60ms/step - loss: 4.3288 - mae: 1.5648 - val_loss: 12.9048 - val_mae: 2.8169\n",
            "Epoch 48/50\n",
            "819/819 [==============================] - 47s 58ms/step - loss: 4.3075 - mae: 1.5599 - val_loss: 13.8102 - val_mae: 2.9179\n",
            "Epoch 49/50\n",
            "819/819 [==============================] - 49s 59ms/step - loss: 4.2367 - mae: 1.5503 - val_loss: 13.4424 - val_mae: 2.8812\n",
            "Epoch 50/50\n",
            "819/819 [==============================] - 47s 57ms/step - loss: 4.2598 - mae: 1.5501 - val_loss: 13.9578 - val_mae: 2.9307\n",
            "405/405 [==============================] - 16s 38ms/step - loss: 9.5284 - mae: 2.4201\n",
            "테스트 MAE: 2.42\n"
          ]
        }
      ],
      "source": [
        "inputs = keras.Input(shape=(sequence_length, raw_data.shape[-1]))\n",
        "# 훈련 속도를 놓이기 위해 순환 드롭아웃을 제외합니다.\n",
        "# x = layers.GRU(32, recurrent_dropout=0.5, return_sequences=True)(inputs)\n",
        "# x = layers.GRU(32, recurrent_dropout=0.5)(x)\n",
        "x = layers.GRU(32, return_sequences=True)(inputs)\n",
        "x = layers.GRU(32)(x)\n",
        "x = layers.Dropout(0.5)(x)\n",
        "outputs = layers.Dense(1)(x)\n",
        "model = keras.Model(inputs, outputs)\n",
        "\n",
        "callbacks = [\n",
        "    keras.callbacks.ModelCheckpoint(\"jena_stacked_gru_dropout_h5.keras\",\n",
        "                                    save_best_only=True)\n",
        "]\n",
        "model.compile(optimizer=\"rmsprop\", loss=\"mse\", metrics=[\"mae\"])\n",
        "history = model.fit(train_dataset,\n",
        "                    epochs=50,\n",
        "                    validation_data=val_dataset,\n",
        "                    callbacks=callbacks)\n",
        "model = keras.models.load_model(\"jena_stacked_gru_dropout_h5.keras\")\n",
        "print(f\"테스트 MAE: {model.evaluate(test_dataset)[1]:.2f}\")"
      ]
    },
    {
      "cell_type": "code",
      "execution_count": null,
      "metadata": {
        "execution": {
          "iopub.execute_input": "2022-05-20T17:21:17.502935Z",
          "iopub.status.busy": "2022-05-20T17:21:17.502627Z",
          "iopub.status.idle": "2022-05-20T17:21:17.637424Z",
          "shell.execute_reply": "2022-05-20T17:21:17.636229Z"
        },
        "id": "ajG9EuXxjbck",
        "outputId": "2dccd493-f54c-4779-a2ee-c64e33c347ab",
        "colab": {
          "base_uri": "https://localhost:8080/",
          "height": 452
        }
      },
      "outputs": [
        {
          "output_type": "display_data",
          "data": {
            "text/plain": [
              "<Figure size 640x480 with 1 Axes>"
            ],
            "image/png": "[encoded data removed]"
          },
          "metadata": {}
        }
      ],
      "source": [
        "loss = history.history[\"mae\"]\n",
        "val_loss = history.history[\"val_mae\"]\n",
        "epochs = range(1, len(loss) + 1)\n",
        "plt.figure()\n",
        "plt.plot(epochs, loss, \"bo\", label=\"Training MAE\")\n",
        "plt.plot(epochs, val_loss, \"b\", label=\"Validation MAE\")\n",
        "plt.title(\"Training and validation MAE\")\n",
        "plt.legend()\n",
        "plt.show()"
      ]
    },
    {
      "cell_type": "markdown",
      "metadata": {
        "id": "Yj_01R2Cjbck"
      },
      "source": [
        "### 양방향 RNN 사용하기"
      ]
    },
    {
      "cell_type": "markdown",
      "metadata": {
        "id": "HfYzAJbqjbck"
      },
      "source": [
        "시퀀스를 거꾸로 뒤집어 LSTM 모델 훈련하기 (책에는 없음)"
      ]
    },
    {
      "cell_type": "code",
      "execution_count": null,
      "metadata": {
        "execution": {
          "iopub.execute_input": "2022-05-20T17:21:17.641176Z",
          "iopub.status.busy": "2022-05-20T17:21:17.640902Z",
          "iopub.status.idle": "2022-05-20T17:21:17.646145Z",
          "shell.execute_reply": "2022-05-20T17:21:17.645090Z"
        },
        "id": "P2Ns9cJajbck"
      },
      "outputs": [],
      "source": [
        "def train_generator():\n",
        "    while True:\n",
        "        for samples, targets in train_dataset:\n",
        "            yield samples[:, ::-1, :], targets\n",
        "\n",
        "def val_generator():\n",
        "    while True:\n",
        "        for samples, targets in val_dataset:\n",
        "            yield samples[:, ::-1, :], targets\n",
        "\n",
        "train_gen = train_generator()\n",
        "val_gen = val_generator()"
      ]
    },
    {
      "cell_type": "code",
      "execution_count": null,
      "metadata": {
        "execution": {
          "iopub.execute_input": "2022-05-20T17:21:17.649630Z",
          "iopub.status.busy": "2022-05-20T17:21:17.649357Z",
          "iopub.status.idle": "2022-05-20T17:38:03.455221Z",
          "shell.execute_reply": "2022-05-20T17:38:03.454271Z"
        },
        "id": "4Yd7xpW3jbck",
        "outputId": "cba42d83-1c0c-4bd7-dea5-581c2965c011",
        "colab": {
          "base_uri": "https://localhost:8080/"
        }
      },
      "outputs": [
        {
          "output_type": "stream",
          "name": "stdout",
          "text": [
            "Epoch 1/10\n",
            "819/819 [==============================] - 58s 68ms/step - loss: 34.4427 - mae: 4.4943 - val_loss: 17.2340 - val_mae: 3.2700\n",
            "Epoch 2/10\n",
            "819/819 [==============================] - 53s 65ms/step - loss: 21.8827 - mae: 3.6623 - val_loss: 16.7471 - val_mae: 3.2083\n",
            "Epoch 3/10\n",
            "819/819 [==============================] - 55s 67ms/step - loss: 20.3650 - mae: 3.5217 - val_loss: 16.0861 - val_mae: 3.1253\n",
            "Epoch 4/10\n",
            "819/819 [==============================] - 82s 92ms/step - loss: 17.7713 - mae: 3.2862 - val_loss: 13.3988 - val_mae: 2.8408\n",
            "Epoch 5/10\n",
            "819/819 [==============================] - 49s 60ms/step - loss: 15.6091 - mae: 3.0858 - val_loss: 12.8040 - val_mae: 2.7785\n",
            "Epoch 6/10\n",
            "819/819 [==============================] - 115s 140ms/step - loss: 14.6476 - mae: 2.9809 - val_loss: 12.5205 - val_mae: 2.7213\n",
            "Epoch 7/10\n",
            "819/819 [==============================] - 48s 58ms/step - loss: 13.9296 - mae: 2.9091 - val_loss: 12.2423 - val_mae: 2.6778\n",
            "Epoch 8/10\n",
            "819/819 [==============================] - 46s 56ms/step - loss: 13.3959 - mae: 2.8444 - val_loss: 12.2930 - val_mae: 2.7002\n",
            "Epoch 9/10\n",
            "819/819 [==============================] - 72s 62ms/step - loss: 13.0317 - mae: 2.8016 - val_loss: 12.1610 - val_mae: 2.6823\n",
            "Epoch 10/10\n",
            "819/819 [==============================] - 51s 63ms/step - loss: 12.6035 - mae: 2.7555 - val_loss: 12.3106 - val_mae: 2.7035\n"
          ]
        }
      ],
      "source": [
        "inputs = keras.Input(shape=(sequence_length, raw_data.shape[-1]))\n",
        "# 훈련 속도를 놓이기 위해 순환 드롭아웃을 제외합니다.\n",
        "# x = layers.LSTM(32, recurrent_dropout=0.25)(inputs)\n",
        "x = layers.LSTM(32)(inputs)\n",
        "x = layers.Dropout(0.5)(x)\n",
        "outputs = layers.Dense(1)(x)\n",
        "model = keras.Model(inputs, outputs)\n",
        "\n",
        "model.compile(optimizer=\"rmsprop\", loss=\"mse\", metrics=[\"mae\"])\n",
        "history = model.fit(train_gen,\n",
        "                    epochs=10,\n",
        "                    steps_per_epoch=819,\n",
        "                    validation_data=val_gen,\n",
        "                    validation_steps=410)"
      ]
    },
    {
      "cell_type": "code",
      "execution_count": null,
      "metadata": {
        "execution": {
          "iopub.execute_input": "2022-05-20T17:38:03.459157Z",
          "iopub.status.busy": "2022-05-20T17:38:03.458872Z",
          "iopub.status.idle": "2022-05-20T17:38:03.588800Z",
          "shell.execute_reply": "2022-05-20T17:38:03.587843Z"
        },
        "id": "HjBY66fkjbck",
        "outputId": "1d4b18a3-c5c3-46c6-aabe-d79991418675",
        "colab": {
          "base_uri": "https://localhost:8080/",
          "height": 452
        }
      },
      "outputs": [
        {
          "output_type": "display_data",
          "data": {
            "text/plain": [
              "<Figure size 640x480 with 1 Axes>"
            ],
            "image/png": "[encoded data removed]"
          },
          "metadata": {}
        }
      ],
      "source": [
        "loss = history.history[\"mae\"]\n",
        "val_loss = history.history[\"val_mae\"]\n",
        "epochs = range(1, len(loss) + 1)\n",
        "plt.figure()\n",
        "plt.plot(epochs, loss, \"bo\", label=\"Training MAE\")\n",
        "plt.plot(epochs, val_loss, \"b\", label=\"Validation MAE\")\n",
        "plt.title(\"Training and validation MAE\")\n",
        "plt.legend()\n",
        "plt.show()"
      ]
    },
    {
      "cell_type": "markdown",
      "metadata": {
        "id": "9mc9iUIKjbck"
      },
      "source": [
        "**양방향 LSTM 모델 훈련하고 평가하기**"
      ]
    },
    {
      "cell_type": "code",
      "execution_count": null,
      "metadata": {
        "execution": {
          "iopub.execute_input": "2022-05-20T17:38:03.594401Z",
          "iopub.status.busy": "2022-05-20T17:38:03.593387Z",
          "iopub.status.idle": "2022-05-20T17:49:14.410464Z",
          "shell.execute_reply": "2022-05-20T17:49:14.409759Z"
        },
        "id": "eysu8EhMjbcl",
        "outputId": "79e7ce1c-f525-44ea-bd14-f595ba429570",
        "colab": {
          "base_uri": "https://localhost:8080/"
        }
      },
      "outputs": [
        {
          "output_type": "stream",
          "name": "stdout",
          "text": [
            "Epoch 1/10\n",
            "819/819 [==============================] - 55s 62ms/step - loss: 26.2686 - mae: 3.6970 - val_loss: 11.1051 - val_mae: 2.5860\n",
            "Epoch 2/10\n",
            "819/819 [==============================] - 48s 58ms/step - loss: 9.6917 - mae: 2.4327 - val_loss: 9.7543 - val_mae: 2.4046\n",
            "Epoch 3/10\n",
            "819/819 [==============================] - 47s 57ms/step - loss: 8.9986 - mae: 2.3375 - val_loss: 9.4536 - val_mae: 2.3768\n",
            "Epoch 4/10\n",
            "819/819 [==============================] - 47s 57ms/step - loss: 8.4802 - mae: 2.2696 - val_loss: 9.7171 - val_mae: 2.4206\n",
            "Epoch 5/10\n",
            "819/819 [==============================] - 48s 58ms/step - loss: 8.0960 - mae: 2.2161 - val_loss: 9.4793 - val_mae: 2.3819\n",
            "Epoch 6/10\n",
            "819/819 [==============================] - 49s 59ms/step - loss: 7.7758 - mae: 2.1717 - val_loss: 9.8579 - val_mae: 2.4301\n",
            "Epoch 7/10\n",
            "819/819 [==============================] - 47s 58ms/step - loss: 7.5232 - mae: 2.1358 - val_loss: 9.7900 - val_mae: 2.4127\n",
            "Epoch 8/10\n",
            "819/819 [==============================] - 48s 59ms/step - loss: 7.3138 - mae: 2.1070 - val_loss: 9.8580 - val_mae: 2.4292\n",
            "Epoch 9/10\n",
            "819/819 [==============================] - 47s 57ms/step - loss: 7.1005 - mae: 2.0763 - val_loss: 10.1506 - val_mae: 2.4593\n",
            "Epoch 10/10\n",
            "819/819 [==============================] - 55s 67ms/step - loss: 6.9811 - mae: 2.0572 - val_loss: 10.7489 - val_mae: 2.5391\n"
          ]
        }
      ],
      "source": [
        "inputs = keras.Input(shape=(sequence_length, raw_data.shape[-1]))\n",
        "x = layers.Bidirectional(layers.LSTM(16))(inputs)\n",
        "outputs = layers.Dense(1)(x)\n",
        "model = keras.Model(inputs, outputs)\n",
        "\n",
        "model.compile(optimizer=\"rmsprop\", loss=\"mse\", metrics=[\"mae\"])\n",
        "history = model.fit(train_dataset,\n",
        "                    epochs=10,\n",
        "                    validation_data=val_dataset)"
      ]
    },
    {
      "cell_type": "markdown",
      "metadata": {
        "id": "wrkE0wkWjbcl"
      },
      "source": [
        "### 더 나아가서"
      ]
    },
    {
      "cell_type": "markdown",
      "metadata": {
        "id": "fi2t0VRNjbcl"
      },
      "source": [
        "## 요약"
      ]
    }
  ],
  "metadata": {
    "colab": {
      "name": "chapter10_dl-for-timeseries.i",
      "provenance": [],
      "gpuClass": "premium"
    },
    "kernelspec": {
      "display_name": "default:Python",
      "language": "python",
      "name": "conda-env-default-py"
    },
    "language_info": {
      "codemirror_mode": {
        "name": "ipython",
        "version": 3
      },
      "file_extension": ".py",
      "mimetype": "text/x-python",
      "name": "python",
      "nbconvert_exporter": "python",
      "pygments_lexer": "ipython3",
      "version": "3.9.10"
    },
    "accelerator": "GPU",
    "gpuClass": "premium"
  },
  "nbformat": 4,
  "nbformat_minor": 0
}